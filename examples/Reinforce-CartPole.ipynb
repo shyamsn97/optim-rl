{
 "cells": [
  {
   "cell_type": "code",
   "execution_count": 1,
   "metadata": {},
   "outputs": [],
   "source": [
    "import torch\n",
    "import torch.nn as nn\n",
    "import torch.optim as optim\n",
    "from typing import Any, Dict, Optional, Callable\n",
    "import torch.distributions as td\n",
    "import numpy as np\n",
    "import gym"
   ]
  },
  {
   "cell_type": "code",
   "execution_count": 2,
   "metadata": {},
   "outputs": [],
   "source": [
    "from optimrl.optimizer import RLOptimizer\n",
    "from optimrl.policy import GymPolicy\n",
    "from optimrl.algorithms.reinforce import ReinforceOptimizer"
   ]
  },
  {
   "cell_type": "code",
   "execution_count": 3,
   "metadata": {},
   "outputs": [],
   "source": [
    "class CartPolePolicy(GymPolicy):\n",
    "    def __init__(self):\n",
    "        super().__init__()\n",
    "        self.input_dims = 4\n",
    "        self.output_dims = 2\n",
    "\n",
    "        self.net = nn.Sequential(\n",
    "            nn.Linear(4, 32),\n",
    "            nn.Tanh(),\n",
    "            nn.Linear(32, 32),\n",
    "            nn.Tanh(),\n",
    "            nn.Linear(32, 2, bias=False)\n",
    "        )\n",
    "\n",
    "    def forward(self, obs: Any) -> Dict[str, Any]:\n",
    "        logits = self.net(obs)\n",
    "        dist = td.Categorical(logits=logits)\n",
    "        action = dist.sample()\n",
    "        return {\"action\":action, \"dist\":dist}\n",
    "\n",
    "    def act(self, obs: Any):\n",
    "        out = self.forward(obs)\n",
    "        return out[\"action\"].item(), out"
   ]
  },
  {
   "cell_type": "code",
   "execution_count": 4,
   "metadata": {},
   "outputs": [],
   "source": [
    "from torch.utils.tensorboard import SummaryWriter\n",
    "import os\n",
    "from datetime import datetime\n",
    "\n",
    "def get_tensorboard_logger(experiment_name: str, base_log_path: str = \"tensorboard_logs\"):\n",
    "    log_path = \"{}/{}_{}\".format(\n",
    "            base_log_path, experiment_name, datetime.now()\n",
    "        )\n",
    "    train_writer = SummaryWriter(log_path, flush_secs=10)\n",
    "    full_log_path = os.path.join(os.getcwd(), log_path)\n",
    "    print(\n",
    "        \"Follow tensorboard logs with: tensorboard --logdir '{}'\".format(\n",
    "            full_log_path\n",
    "        )\n",
    "    )\n",
    "    return train_writer"
   ]
  },
  {
   "cell_type": "code",
   "execution_count": 5,
   "metadata": {},
   "outputs": [],
   "source": [
    "from tqdm import tqdm\n",
    "\n",
    "\n",
    "policy = CartPolePolicy()\n",
    "device = torch.device('cuda')\n",
    "policy = policy.to(device)"
   ]
  },
  {
   "cell_type": "code",
   "execution_count": 6,
   "metadata": {},
   "outputs": [
    {
     "data": {
      "text/plain": [
       "device(type='cuda', index=0)"
      ]
     },
     "execution_count": 6,
     "metadata": {},
     "output_type": "execute_result"
    }
   ],
   "source": [
    "policy.device"
   ]
  },
  {
   "cell_type": "code",
   "execution_count": 7,
   "metadata": {},
   "outputs": [],
   "source": [
    "def reinforce_rollout(\n",
    "    policy: GymPolicy, env_name: str = None, env=None, env_creation_fn=None, seed = 0\n",
    "):\n",
    "    if env_name is None and env is None:\n",
    "        raise ValueError(\"env_name or env must be provided!\")\n",
    "    if env is None:\n",
    "        if env_creation_fn is None:\n",
    "            env_creation_fn = gym.make\n",
    "        env = env_creation_fn(env_name)\n",
    "    env.seed(seed)\n",
    "    done = False\n",
    "    observations, actions, rewards = (\n",
    "        [],\n",
    "        [],\n",
    "        [],\n",
    "    )\n",
    "    observation = env.reset()\n",
    "    with torch.no_grad():\n",
    "        while not done:\n",
    "            action, out = policy.act(\n",
    "                torch.from_numpy(observation).unsqueeze(0).to(policy.device)\n",
    "            )\n",
    "            next_observation, reward, done, info = env.step(action)\n",
    "\n",
    "            observations.append(observation)\n",
    "            actions.append(action)\n",
    "            rewards.append(reward)\n",
    "\n",
    "            observation = next_observation\n",
    "\n",
    "    return np.array(observations), np.array(actions), np.array(rewards)\n"
   ]
  },
  {
   "cell_type": "code",
   "execution_count": 8,
   "metadata": {},
   "outputs": [
    {
     "name": "stderr",
     "output_type": "stream",
     "text": [
      "  0%|                                                                          | 0/1500 [00:00<?, ?it/s]"
     ]
    },
    {
     "name": "stdout",
     "output_type": "stream",
     "text": [
      "Follow tensorboard logs with: tensorboard --logdir '/home/shyam/Code/optim-rl/examples/tensorboard_logs/ReinforceLunarLander_2022-12-07 13:02:14.515666'\n"
     ]
    },
    {
     "name": "stderr",
     "output_type": "stream",
     "text": [
      "Loss: 7.122768402099609, Reward: 500.0: 100%|███████████████████████| 1500/1500 [03:45<00:00,  6.66it/s]\n"
     ]
    }
   ],
   "source": [
    "returns = []\n",
    "bar = tqdm(np.arange(1500))\n",
    "\n",
    "writer = get_tensorboard_logger(\"ReinforceLunarLander\")\n",
    "optimizer = ReinforceOptimizer(policy, lr=0.001)\n",
    "\n",
    "for i in bar:\n",
    "    observations, actions, rewards = optimizer.rollout(reinforce_rollout, env_name = \"CartPole-v1\")\n",
    "\n",
    "    torch_observations = torch.from_numpy(observations).to(policy.device)\n",
    "    torch_actions = torch.from_numpy(actions).float().to(policy.device)\n",
    "    torch_rewards = torch.from_numpy(rewards).float().to(policy.device)\n",
    "\n",
    "\n",
    "    optimizer.zero_grad()\n",
    "    loss = optimizer.loss_fn(torch_observations, torch_actions, torch_rewards)\n",
    "    loss.backward()\n",
    "    torch.nn.utils.clip_grad_norm_(policy.parameters(), 1.0)\n",
    "    optimizer.step()\n",
    "\n",
    "    # metrics\n",
    "\n",
    "    grad_dict = {}\n",
    "    for n, W in policy.named_parameters():\n",
    "        if W.grad is not None:\n",
    "            grad_dict[\"{}_grad\".format(n)] = float(torch.sum(W.grad).item())\n",
    "\n",
    "    loss = loss.item()\n",
    "\n",
    "    \n",
    "    sum_reward = np.sum(rewards)\n",
    "\n",
    "    metrics_dict = {\"loss\":loss, \"sum_reward\":sum_reward, **grad_dict}\n",
    "\n",
    "    for key in metrics_dict:\n",
    "        writer.add_scalar(key, metrics_dict[key], i)\n",
    "\n",
    "    # avg_rew = 0\n",
    "    # for i in range(5):\n",
    "    #     observations, actions, rewards = optimizer.rollout(reinforce_rollout, env_name = \"CartPole-v1\")\n",
    "    #     avg_rew += np.sum(rewards)\n",
    "    # avg_rew = avg_rew / 5.0\n",
    "    returns.append(sum_reward)\n",
    "\n",
    "\n",
    "    bar.set_description(\"Loss: {}, Reward: {}\".format(loss, sum_reward))"
   ]
  },
  {
   "cell_type": "code",
   "execution_count": 9,
   "metadata": {},
   "outputs": [
    {
     "data": {
      "text/plain": [
       "500.0"
      ]
     },
     "execution_count": 9,
     "metadata": {},
     "output_type": "execute_result"
    }
   ],
   "source": [
    "returns[-1]"
   ]
  },
  {
   "cell_type": "code",
   "execution_count": 10,
   "metadata": {},
   "outputs": [],
   "source": [
    "import time\n",
    "def render(env: gym.Env, policy: GymPolicy):\n",
    "    observation = env.reset()\n",
    "    done = False\n",
    "    rendereds = []\n",
    "    rewards = []\n",
    "    with torch.no_grad():\n",
    "        while not done:\n",
    "            rendered = env.render(mode=\"rgb_array\")\n",
    "            time.sleep(0.01)\n",
    "\n",
    "            action, _ = policy.act(\n",
    "                torch.from_numpy(observation).unsqueeze(0).to(policy.device)\n",
    "            )\n",
    "            next_observation, reward, done, _ = env.step(action)\n",
    "\n",
    "            observation = next_observation\n",
    "\n",
    "            rendereds.append(rendered)\n",
    "            rewards.append(reward)\n",
    "    env.close()\n",
    "    return rendereds, rewards\n"
   ]
  },
  {
   "cell_type": "code",
   "execution_count": 11,
   "metadata": {},
   "outputs": [],
   "source": [
    "env = gym.make(\"CartPole-v1\")\n",
    "rendereds, rewards = render(env, policy)"
   ]
  },
  {
   "cell_type": "code",
   "execution_count": 12,
   "metadata": {},
   "outputs": [
    {
     "data": {
      "text/plain": [
       "500.0"
      ]
     },
     "execution_count": 12,
     "metadata": {},
     "output_type": "execute_result"
    }
   ],
   "source": [
    "np.sum(rewards)"
   ]
  },
  {
   "cell_type": "code",
   "execution_count": 13,
   "metadata": {},
   "outputs": [],
   "source": [
    "import matplotlib.pyplot as plt"
   ]
  },
  {
   "cell_type": "code",
   "execution_count": 14,
   "metadata": {},
   "outputs": [],
   "source": [
    "def movingaverage(interval, window_size):\n",
    "    window = np.ones(int(window_size))/float(window_size)\n",
    "    return np.convolve(interval, window, 'same')"
   ]
  },
  {
   "cell_type": "code",
   "execution_count": 33,
   "metadata": {},
   "outputs": [],
   "source": [
    "avg = movingaverage(returns, 10)"
   ]
  },
  {
   "cell_type": "code",
   "execution_count": 37,
   "metadata": {},
   "outputs": [
    {
     "data": {
      "text/plain": [
       "[<matplotlib.lines.Line2D at 0x7f65020379d0>]"
      ]
     },
     "execution_count": 37,
     "metadata": {},
     "output_type": "execute_result"
    },
    {
     "data": {
      "image/png": "[encoded data removed]",
      "text/plain": [
       "<Figure size 432x288 with 1 Axes>"
      ]
     },
     "metadata": {
      "needs_background": "light"
     },
     "output_type": "display_data"
    }
   ],
   "source": [
    "fig, ax = plt.subplots( nrows=1, ncols=1 )  # create figure & 1 axis\n",
    "\n",
    "ax.plot(avg[:1000])"
   ]
  },
  {
   "cell_type": "code",
   "execution_count": 38,
   "metadata": {},
   "outputs": [],
   "source": [
    "fig.savefig(\"cartpole-avg.png\")"
   ]
  },
  {
   "cell_type": "code",
   "execution_count": 39,
   "metadata": {},
   "outputs": [],
   "source": [
    "\n",
    "import numpy as np\n",
    "import matplotlib\n",
    "import matplotlib.pyplot as plt\n",
    "%matplotlib ipympl\n",
    "\n",
    "plt.style.use('ggplot')\n",
    "# Imports specifically so we can render outputs in Jupyter.\n",
    "from JSAnimation.IPython_display import display_animation\n",
    "from matplotlib import animation\n",
    "from IPython.display import display\n",
    "from celluloid import Camera\n",
    "from IPython.display import HTML\n"
   ]
  },
  {
   "cell_type": "code",
   "execution_count": 40,
   "metadata": {},
   "outputs": [],
   "source": [
    "def render_rollout():\n",
    "    fig = plt.figure(\"Animation\",figsize=(7,5))\n",
    "    camera = Camera(fig)\n",
    "    ax = fig.add_subplot(111)\n",
    "    rendereds, rewards = render(env, policy)\n",
    "    frames = []\n",
    "    for r in rendereds:\n",
    "        frame = ax.imshow(r)\n",
    "        ax.axis('off')\n",
    "        camera.snap()\n",
    "        frames.append([frame])\n",
    "    print(\"Sum Reward: {}\".format(np.sum(rewards)))\n",
    "    animation = camera.animate(blit=False, interval=50)\n",
    "    # display(animations.to_html5_video())\n",
    "    return animation"
   ]
  },
  {
   "cell_type": "code",
   "execution_count": 41,
   "metadata": {},
   "outputs": [
    {
     "name": "stdout",
     "output_type": "stream",
     "text": [
      "Sum Reward: 500.0\n"
     ]
    },
    {
     "data": {
      "application/vnd.jupyter.widget-view+json": {
       "model_id": "896288637fde44889bd6a64726e9bf65",
       "version_major": 2,
       "version_minor": 0
      },
      "image/png": "[encoded data removed]",
      "text/html": [
       "\n",
       "            <div style=\"display: inline-block;\">\n",
       "                <div class=\"jupyter-widgets widget-label\" style=\"text-align: center;\">\n",
       "                    Animation\n",
       "                </div>\n",
       "                <img src='data:image/png;base64,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' width=700.0/>\n",
       "            </div>\n",
       "        "
      ],
      "text/plain": [
       "Canvas(toolbar=Toolbar(toolitems=[('Home', 'Reset original view', 'home', 'home'), ('Back', 'Back to previous …"
      ]
     },
     "metadata": {},
     "output_type": "display_data"
    }
   ],
   "source": [
    "animation = render_rollout()"
   ]
  },
  {
   "cell_type": "code",
   "execution_count": 43,
   "metadata": {},
   "outputs": [],
   "source": [
    "animation.save('CartPole.gif')"
   ]
  }
 ],
 "metadata": {
  "interpreter": {
   "hash": "1d64cb66d3d902aa83000daa06ca958bef94bde318911a82aee5f8df2bb8934b"
  },
  "kernelspec": {
   "display_name": "Python [conda env:py310] *",
   "language": "python",
   "name": "conda-env-py310-py"
  },
  "language_info": {
   "codemirror_mode": {
    "name": "ipython",
    "version": 3
   },
   "file_extension": ".py",
   "mimetype": "text/x-python",
   "name": "python",
   "nbconvert_exporter": "python",
   "pygments_lexer": "ipython3",
   "version": "3.10.0"
  }
 },
 "nbformat": 4,
 "nbformat_minor": 4
}
