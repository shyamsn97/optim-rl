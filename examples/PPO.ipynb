{
 "cells": [
  {
   "cell_type": "code",
   "execution_count": 1,
   "metadata": {},
   "outputs": [],
   "source": [
    "from typing import Any, Dict  # noqa\n",
    "\n",
    "import gym\n",
    "import numpy as np\n",
    "import torch\n",
    "import torch.nn.functional as F\n",
    "import torch.optim as optim\n",
    "import pybulletgym\n",
    "\n",
    "from ezrl.algorithms.ppo import PPOOptimizer\n",
    "from ezrl.policy import ACPolicy"
   ]
  },
  {
   "cell_type": "code",
   "execution_count": null,
   "metadata": {},
   "outputs": [],
   "source": [
    "class WorldModel(nn.Module):\n",
    "    def __init__(\n",
    "        self,\n",
    "        obs_encoder: nn.Module,\n",
    "        rssm: RSSM,\n",
    "        obs_decoder: ObsDecoder,\n",
    "        reward_predictor: RewardPredictor,\n",
    "        gamma_predictor: GammaPredictor\n",
    "    ):\n",
    "        super().__init__()\n",
    "        self.rssm = rssm\n",
    "        self.action_dim = rssm.action_dim\n",
    "        self.latent_dim = rssm.latent_dim\n",
    "        self.hidden_dim = rssm.hidden_dim\n",
    "        self.obs_encoding_dim = rssm.obs_encoding_dim\n",
    "\n",
    "        self.hidden_state = rssm.hidden_state\n",
    "\n",
    "        self.obs_encoder = obs_encoder\n",
    "\n",
    "        # xhat_t ~ p(xhat_t | h_t, z_t)\n",
    "        self.obs_decoder = obs_decoder\n",
    "\n",
    "        # rhat_t ~ p(rhat_t | h_t, z_t)\n",
    "        self.reward_predictor = reward_predictor\n",
    "\n",
    "        # gammahat_t ~ p(rhat_t | h_t, z_t)\n",
    "        self.gamma_predictor = gamma_predictor\n",
    "\n",
    "    def encode_obs(self, obs: torch.Tensor) -> torch.Tensor:\n",
    "        encoded_obs = self.obs_encoder(obs)\n",
    "        return encoded_obs\n",
    "\n",
    "    def recurrent(self, prev_hidden_state: torch.Tensor, prev_latent_state: torch.Tensor, prev_action: torch.Tensor) -> torch.Tensor:\n",
    "        \"\"\"\n",
    "        h_t = f(h_t-1, z_t-1, a_t-1)\n",
    "\n",
    "        Args:\n",
    "            prev_hidden_state (torch.Tensor): _description_\n",
    "            prev_latent_state (torch.Tensor): _description_\n",
    "            prev_action (torch.Tensor): _description_\n",
    "\n",
    "        Returns:\n",
    "            torch.Tensor: _description_\n",
    "        \"\"\"\n",
    "        return self.rssm.recurrent(prev_hidden_state, prev_latent_state, prev_action)\n",
    "\n",
    "    def posterior(self, hidden_state: torch.Tensor, obs_encoding: torch.Tensor) -> Tuple[torch.Tensor, td.Distribution]:\n",
    "        \"\"\"\n",
    "        z_t ~ q(z_t | h_t, x_t)\n",
    "\n",
    "        Args:\n",
    "            obs_encoding (torch.Tensor): _description_\n",
    "            hidden_state (torch.Tensor): _description_\n",
    "\n",
    "        Returns:\n",
    "            Tuple[torch.Tensor, td.Distribution]: _description_\n",
    "        \"\"\"\n",
    "        return self.rssm.posterior(obs_encoding, hidden_state)\n",
    "\n",
    "    def prior(self, hidden_state: torch.Tensor) -> Tuple[torch.Tensor, td.Distribution]:\n",
    "        \"\"\"\n",
    "        zhat_t ~ p(zhat_t | h_t)\n",
    "\n",
    "        Args:\n",
    "            hidden_state (torch.Tensor): _description_\n",
    "\n",
    "        Returns:\n",
    "            Tuple[torch.Tensor, td.Distribution]: _description_\n",
    "        \"\"\"\n",
    "        return self.rssm.prior(hidden_state)\n",
    "\n",
    "    def decode_obs(self, hidden_state: torch.Tensor, latent_state: torch.Tensor) -> Tuple[torch.Tensor, td.Distribution]:\n",
    "        \"\"\"\n",
    "        xhat_t ~ p(xhat_t | h_t, z_t)\n",
    "\n",
    "        Args:\n",
    "            hidden_state (torch.Tensor): _description_\n",
    "            latent_state (torch.Tensor): _description_\n",
    "\n",
    "        Returns:\n",
    "            Tuple[torch.Tensor, td.Distribution]: _description_\n",
    "        \"\"\"\n",
    "        return self.obs_decoder(hidden_state, latent_state)\n",
    "\n",
    "    def predict_reward(self, hidden_state: torch.Tensor, latent_state: torch.Tensor) -> Tuple[torch.Tensor, td.Distribution]:\n",
    "        \"\"\"\n",
    "        rhat_t ~ p(rhat_t | h_t, z_t)\n",
    "\n",
    "        Args:\n",
    "            hidden_state (torch.Tensor): _description_\n",
    "            latent_state (torch.Tensor): _description_\n",
    "\n",
    "        Returns:\n",
    "            Tuple[torch.Tensor, td.Distribution]: _description_\n",
    "        \"\"\"\n",
    "        return self.reward_predictor(hidden_state, latent_state)\n",
    "\n",
    "    def predict_gamma(self, hidden_state: torch.Tensor, latent_state: torch.Tensor) -> Tuple[torch.Tensor, td.Distribution]:\n",
    "        \"\"\"\n",
    "        gammahat_t ~ p(rhat_t | h_t, z_t)\n",
    "\n",
    "        Args:\n",
    "            hidden_state (torch.Tensor): _description_\n",
    "            latent_state (torch.Tensor): _description_\n",
    "\n",
    "        Returns:\n",
    "            Tuple[torch.Tensor, td.Distribution]: _description_\n",
    "        \"\"\"\n",
    "        return self.gamma_predictor(latent_state, hidden_state)\n"
   ]
  },
  {
   "cell_type": "code",
   "execution_count": 2,
   "metadata": {},
   "outputs": [],
   "source": [
    "import torch.nn as nn\n",
    "import torch.distributions as td\n",
    "\n",
    "class AntACPolicy(ACPolicy):\n",
    "    def __init__(self):\n",
    "        super().__init__()\n",
    "        self.input_dims = 28\n",
    "        self.action_dims = 8\n",
    "\n",
    "        self.policy_net = nn.Sequential(\n",
    "            nn.Linear(28, 64),\n",
    "            nn.Tanh(),\n",
    "            nn.Linear(64, 64),\n",
    "            nn.Tanh(),\n",
    "            nn.Linear(64, 8, bias=False)\n",
    "        )\n",
    "\n",
    "        self.critic_net = nn.Sequential(\n",
    "            nn.Linear(28, 32),\n",
    "            nn.Tanh(),\n",
    "            nn.Linear(32, 32),\n",
    "            nn.Tanh(),\n",
    "            nn.Linear(32, 1, bias=False)\n",
    "        )\n",
    "\n",
    "        log_std = -0.5 * np.ones(self.action_dims, dtype=np.float32)\n",
    "        self.log_std = torch.nn.Parameter(torch.as_tensor(log_std))\n",
    "\n",
    "    def log_prob(self, dist: td.Distribution, actions: torch.Tensor):\n",
    "        if isinstance(dist, td.Categorical):\n",
    "            return dist.log_prob(actions)\n",
    "        return dist.log_prob(actions).sum(axis=-1)\n",
    "\n",
    "    def forward(self, obs: Any) -> Dict[str, Any]:\n",
    "        mu = self.policy_net(obs)\n",
    "        std = torch.exp(self.log_std)\n",
    "        dist = td.normal.Normal(mu, std)\n",
    "        action = dist.sample()\n",
    "        log_probs = self.log_prob(dist, action)\n",
    "        value = self.critic_net(obs).squeeze()\n",
    "        return {\"action\":action, \"dist\":dist, \"log_probs\":log_probs, \"value\":value}\n",
    "\n",
    "    def critic(self, obs:Any):\n",
    "        return self.critic_net(obs).squeeze()\n",
    "\n",
    "    def act(self, obs: Any):\n",
    "        out = self.forward(obs)\n",
    "        return np.squeeze(out[\"action\"].detach().cpu().numpy()), out"
   ]
  },
  {
   "cell_type": "code",
   "execution_count": 3,
   "metadata": {},
   "outputs": [],
   "source": [
    "def ppo_rollout(\n",
    "    policy: ACPolicy, env_name: str = None, env=None, env_creation_fn=None\n",
    ") -> Dict[str, np.array]:\n",
    "    if env_name is None and env is None:\n",
    "        raise ValueError(\"env_name or env must be provided!\")\n",
    "    if env is None:\n",
    "        if env_creation_fn is None:\n",
    "            env_creation_fn = gym.make\n",
    "        env = env_creation_fn(env_name)\n",
    "    done = False\n",
    "    observations, actions, rewards, log_probs, values = ([], [], [], [], [])\n",
    "    observation = env.reset()\n",
    "    with torch.no_grad():\n",
    "        while not done:\n",
    "            obs = torch.from_numpy(observation).to(policy.device)\n",
    "            action, out = policy.act(obs)\n",
    "            v = out[\"values\"]\n",
    "            next_observation, reward, done, info = env.step(action)\n",
    "\n",
    "            observations.append(observation)\n",
    "            actions.append(action)\n",
    "            rewards.append(reward)\n",
    "            log_probs.append(out[\"log_probs\"].detach().cpu().numpy())\n",
    "            values.append(v.detach().cpu().numpy())\n",
    "\n",
    "            observation = next_observation\n",
    "    # env.close()\n",
    "    return {\n",
    "        \"observations\": np.array(observations),\n",
    "        \"actions\": np.array(actions),\n",
    "        \"rewards\": np.array(rewards),\n",
    "        \"log_probs\": np.array(log_probs),\n",
    "        \"values\": np.array(values),\n",
    "    }"
   ]
  },
  {
   "cell_type": "code",
   "execution_count": 4,
   "metadata": {},
   "outputs": [],
   "source": [
    "policy = AntACPolicy()\n",
    "device = torch.device('cuda')\n",
    "policy = policy.to(device)"
   ]
  },
  {
   "cell_type": "code",
   "execution_count": 5,
   "metadata": {},
   "outputs": [],
   "source": [
    "from ezrl.utils import get_tensorboard_logger"
   ]
  },
  {
   "cell_type": "code",
   "execution_count": 6,
   "metadata": {},
   "outputs": [],
   "source": [
    "optimizer = PPOOptimizer(policy, pi_lr=0.0005)"
   ]
  },
  {
   "cell_type": "code",
   "execution_count": 7,
   "metadata": {},
   "outputs": [
    {
     "name": "stdout",
     "output_type": "stream",
     "text": [
      "Follow tensorboard logs with: tensorboard --logdir '/home/shyam/Code/ez-rl/examples/tensorboard_logs/PPOOptimizer_2022-04-23 00:24:27.974583'\n"
     ]
    }
   ],
   "source": [
    "writer = get_tensorboard_logger(\"PPOOptimizer\")"
   ]
  },
  {
   "cell_type": "code",
   "execution_count": 8,
   "metadata": {},
   "outputs": [
    {
     "name": "stdout",
     "output_type": "stream",
     "text": [
      "WalkerBase::__init__\n"
     ]
    },
    {
     "name": "stderr",
     "output_type": "stream",
     "text": [
      "pybullet build time: Dec 23 2020 01:49:05\n"
     ]
    }
   ],
   "source": [
    "env = gym.make(\"AntPyBulletEnv-v0\")"
   ]
  },
  {
   "cell_type": "code",
   "execution_count": 9,
   "metadata": {},
   "outputs": [
    {
     "name": "stderr",
     "output_type": "stream",
     "text": [
      "Loss: 477.9022216796875, Reward: 1683.3821766812905:  56%|█████▋    | 28172/50000 [12:40:01<9:48:52,  1.62s/it]  \n"
     ]
    },
    {
     "ename": "KeyboardInterrupt",
     "evalue": "",
     "output_type": "error",
     "traceback": [
      "\u001b[0;31m---------------------------------------------------------------------------\u001b[0m",
      "\u001b[0;31mKeyboardInterrupt\u001b[0m                         Traceback (most recent call last)",
      "\u001b[0;32m/tmp/ipykernel_132824/1982074224.py\u001b[0m in \u001b[0;36m<module>\u001b[0;34m\u001b[0m\n\u001b[1;32m      9\u001b[0m \u001b[0;34m\u001b[0m\u001b[0m\n\u001b[1;32m     10\u001b[0m \u001b[0;32mfor\u001b[0m \u001b[0mi\u001b[0m \u001b[0;32min\u001b[0m \u001b[0mbar\u001b[0m\u001b[0;34m:\u001b[0m\u001b[0;34m\u001b[0m\u001b[0;34m\u001b[0m\u001b[0m\n\u001b[0;32m---> 11\u001b[0;31m     \u001b[0mrollouts\u001b[0m \u001b[0;34m=\u001b[0m \u001b[0moptimizer\u001b[0m\u001b[0;34m.\u001b[0m\u001b[0mrollout\u001b[0m\u001b[0;34m(\u001b[0m\u001b[0mppo_rollout\u001b[0m\u001b[0;34m,\u001b[0m \u001b[0menv\u001b[0m\u001b[0;34m=\u001b[0m\u001b[0menv\u001b[0m\u001b[0;34m)\u001b[0m\u001b[0;34m\u001b[0m\u001b[0;34m\u001b[0m\u001b[0m\n\u001b[0m\u001b[1;32m     12\u001b[0m \u001b[0;34m\u001b[0m\u001b[0m\n\u001b[1;32m     13\u001b[0m     \u001b[0mlosses\u001b[0m \u001b[0;34m=\u001b[0m \u001b[0;34m[\u001b[0m\u001b[0;34m]\u001b[0m\u001b[0;34m\u001b[0m\u001b[0;34m\u001b[0m\u001b[0m\n",
      "\u001b[0;32m~/anaconda3/envs/pycanvas/lib/python3.9/site-packages/ezrl-0.1.0-py3.9.egg/ezrl/algorithms/ppo.py\u001b[0m in \u001b[0;36mrollout\u001b[0;34m(self, rollout_fn, pool, num_rollouts, *args, **kwargs)\u001b[0m\n\u001b[1;32m    210\u001b[0m             \u001b[0mrollout_fn\u001b[0m \u001b[0;34m=\u001b[0m \u001b[0mppo_rollout\u001b[0m\u001b[0;34m\u001b[0m\u001b[0;34m\u001b[0m\u001b[0m\n\u001b[1;32m    211\u001b[0m         \u001b[0;32mif\u001b[0m \u001b[0mpool\u001b[0m \u001b[0;32mis\u001b[0m \u001b[0;32mNone\u001b[0m\u001b[0;34m:\u001b[0m\u001b[0;34m\u001b[0m\u001b[0;34m\u001b[0m\u001b[0m\n\u001b[0;32m--> 212\u001b[0;31m             rollouts = [\n\u001b[0m\u001b[1;32m    213\u001b[0m                 \u001b[0mrollout_fn\u001b[0m\u001b[0;34m(\u001b[0m\u001b[0mself\u001b[0m\u001b[0;34m.\u001b[0m\u001b[0mpolicy\u001b[0m\u001b[0;34m,\u001b[0m \u001b[0;34m*\u001b[0m\u001b[0margs\u001b[0m\u001b[0;34m,\u001b[0m \u001b[0;34m**\u001b[0m\u001b[0mkwargs\u001b[0m\u001b[0;34m)\u001b[0m \u001b[0;32mfor\u001b[0m \u001b[0m_\u001b[0m \u001b[0;32min\u001b[0m \u001b[0mrange\u001b[0m\u001b[0;34m(\u001b[0m\u001b[0mnum_rollouts\u001b[0m\u001b[0;34m)\u001b[0m\u001b[0;34m\u001b[0m\u001b[0;34m\u001b[0m\u001b[0m\n\u001b[1;32m    214\u001b[0m             ]\n",
      "\u001b[0;32m~/anaconda3/envs/pycanvas/lib/python3.9/site-packages/ezrl-0.1.0-py3.9.egg/ezrl/algorithms/ppo.py\u001b[0m in \u001b[0;36m<listcomp>\u001b[0;34m(.0)\u001b[0m\n\u001b[1;32m    211\u001b[0m         \u001b[0;32mif\u001b[0m \u001b[0mpool\u001b[0m \u001b[0;32mis\u001b[0m \u001b[0;32mNone\u001b[0m\u001b[0;34m:\u001b[0m\u001b[0;34m\u001b[0m\u001b[0;34m\u001b[0m\u001b[0m\n\u001b[1;32m    212\u001b[0m             rollouts = [\n\u001b[0;32m--> 213\u001b[0;31m                 \u001b[0mrollout_fn\u001b[0m\u001b[0;34m(\u001b[0m\u001b[0mself\u001b[0m\u001b[0;34m.\u001b[0m\u001b[0mpolicy\u001b[0m\u001b[0;34m,\u001b[0m \u001b[0;34m*\u001b[0m\u001b[0margs\u001b[0m\u001b[0;34m,\u001b[0m \u001b[0;34m**\u001b[0m\u001b[0mkwargs\u001b[0m\u001b[0;34m)\u001b[0m \u001b[0;32mfor\u001b[0m \u001b[0m_\u001b[0m \u001b[0;32min\u001b[0m \u001b[0mrange\u001b[0m\u001b[0;34m(\u001b[0m\u001b[0mnum_rollouts\u001b[0m\u001b[0;34m)\u001b[0m\u001b[0;34m\u001b[0m\u001b[0;34m\u001b[0m\u001b[0m\n\u001b[0m\u001b[1;32m    214\u001b[0m             ]\n\u001b[1;32m    215\u001b[0m         \u001b[0;32melse\u001b[0m\u001b[0;34m:\u001b[0m\u001b[0;34m\u001b[0m\u001b[0;34m\u001b[0m\u001b[0m\n",
      "\u001b[0;32m/tmp/ipykernel_132824/2464624155.py\u001b[0m in \u001b[0;36mppo_rollout\u001b[0;34m(policy, env_name, env, env_creation_fn)\u001b[0m\n\u001b[1;32m     16\u001b[0m             \u001b[0maction\u001b[0m\u001b[0;34m,\u001b[0m \u001b[0mout\u001b[0m \u001b[0;34m=\u001b[0m \u001b[0mpolicy\u001b[0m\u001b[0;34m.\u001b[0m\u001b[0mact\u001b[0m\u001b[0;34m(\u001b[0m\u001b[0mobs\u001b[0m\u001b[0;34m)\u001b[0m\u001b[0;34m\u001b[0m\u001b[0;34m\u001b[0m\u001b[0m\n\u001b[1;32m     17\u001b[0m             \u001b[0mv\u001b[0m \u001b[0;34m=\u001b[0m \u001b[0mpolicy\u001b[0m\u001b[0;34m.\u001b[0m\u001b[0mcritic\u001b[0m\u001b[0;34m(\u001b[0m\u001b[0mobs\u001b[0m\u001b[0;34m)\u001b[0m\u001b[0;34m\u001b[0m\u001b[0;34m\u001b[0m\u001b[0m\n\u001b[0;32m---> 18\u001b[0;31m             \u001b[0mnext_observation\u001b[0m\u001b[0;34m,\u001b[0m \u001b[0mreward\u001b[0m\u001b[0;34m,\u001b[0m \u001b[0mdone\u001b[0m\u001b[0;34m,\u001b[0m \u001b[0minfo\u001b[0m \u001b[0;34m=\u001b[0m \u001b[0menv\u001b[0m\u001b[0;34m.\u001b[0m\u001b[0mstep\u001b[0m\u001b[0;34m(\u001b[0m\u001b[0maction\u001b[0m\u001b[0;34m)\u001b[0m\u001b[0;34m\u001b[0m\u001b[0;34m\u001b[0m\u001b[0m\n\u001b[0m\u001b[1;32m     19\u001b[0m \u001b[0;34m\u001b[0m\u001b[0m\n\u001b[1;32m     20\u001b[0m             \u001b[0mobservations\u001b[0m\u001b[0;34m.\u001b[0m\u001b[0mappend\u001b[0m\u001b[0;34m(\u001b[0m\u001b[0mobservation\u001b[0m\u001b[0;34m)\u001b[0m\u001b[0;34m\u001b[0m\u001b[0;34m\u001b[0m\u001b[0m\n",
      "\u001b[0;32m~/anaconda3/envs/pycanvas/lib/python3.9/site-packages/gym/wrappers/time_limit.py\u001b[0m in \u001b[0;36mstep\u001b[0;34m(self, action)\u001b[0m\n\u001b[1;32m     14\u001b[0m     \u001b[0;32mdef\u001b[0m \u001b[0mstep\u001b[0m\u001b[0;34m(\u001b[0m\u001b[0mself\u001b[0m\u001b[0;34m,\u001b[0m \u001b[0maction\u001b[0m\u001b[0;34m)\u001b[0m\u001b[0;34m:\u001b[0m\u001b[0;34m\u001b[0m\u001b[0;34m\u001b[0m\u001b[0m\n\u001b[1;32m     15\u001b[0m         \u001b[0;32massert\u001b[0m \u001b[0mself\u001b[0m\u001b[0;34m.\u001b[0m\u001b[0m_elapsed_steps\u001b[0m \u001b[0;32mis\u001b[0m \u001b[0;32mnot\u001b[0m \u001b[0;32mNone\u001b[0m\u001b[0;34m,\u001b[0m \u001b[0;34m\"Cannot call env.step() before calling reset()\"\u001b[0m\u001b[0;34m\u001b[0m\u001b[0;34m\u001b[0m\u001b[0m\n\u001b[0;32m---> 16\u001b[0;31m         \u001b[0mobservation\u001b[0m\u001b[0;34m,\u001b[0m \u001b[0mreward\u001b[0m\u001b[0;34m,\u001b[0m \u001b[0mdone\u001b[0m\u001b[0;34m,\u001b[0m \u001b[0minfo\u001b[0m \u001b[0;34m=\u001b[0m \u001b[0mself\u001b[0m\u001b[0;34m.\u001b[0m\u001b[0menv\u001b[0m\u001b[0;34m.\u001b[0m\u001b[0mstep\u001b[0m\u001b[0;34m(\u001b[0m\u001b[0maction\u001b[0m\u001b[0;34m)\u001b[0m\u001b[0;34m\u001b[0m\u001b[0;34m\u001b[0m\u001b[0m\n\u001b[0m\u001b[1;32m     17\u001b[0m         \u001b[0mself\u001b[0m\u001b[0;34m.\u001b[0m\u001b[0m_elapsed_steps\u001b[0m \u001b[0;34m+=\u001b[0m \u001b[0;36m1\u001b[0m\u001b[0;34m\u001b[0m\u001b[0;34m\u001b[0m\u001b[0m\n\u001b[1;32m     18\u001b[0m         \u001b[0;32mif\u001b[0m \u001b[0mself\u001b[0m\u001b[0;34m.\u001b[0m\u001b[0m_elapsed_steps\u001b[0m \u001b[0;34m>=\u001b[0m \u001b[0mself\u001b[0m\u001b[0;34m.\u001b[0m\u001b[0m_max_episode_steps\u001b[0m\u001b[0;34m:\u001b[0m\u001b[0;34m\u001b[0m\u001b[0;34m\u001b[0m\u001b[0m\n",
      "\u001b[0;32m~/Code/pybullet-gym/pybulletgym/envs/roboschool/envs/locomotion/walker_base_env.py\u001b[0m in \u001b[0;36mstep\u001b[0;34m(self, a)\u001b[0m\n\u001b[1;32m     55\u001b[0m             \u001b[0mself\u001b[0m\u001b[0;34m.\u001b[0m\u001b[0mscene\u001b[0m\u001b[0;34m.\u001b[0m\u001b[0mglobal_step\u001b[0m\u001b[0;34m(\u001b[0m\u001b[0;34m)\u001b[0m\u001b[0;34m\u001b[0m\u001b[0;34m\u001b[0m\u001b[0m\n\u001b[1;32m     56\u001b[0m \u001b[0;34m\u001b[0m\u001b[0m\n\u001b[0;32m---> 57\u001b[0;31m         \u001b[0mstate\u001b[0m \u001b[0;34m=\u001b[0m \u001b[0mself\u001b[0m\u001b[0;34m.\u001b[0m\u001b[0mrobot\u001b[0m\u001b[0;34m.\u001b[0m\u001b[0mcalc_state\u001b[0m\u001b[0;34m(\u001b[0m\u001b[0;34m)\u001b[0m  \u001b[0;31m# also calculates self.joints_at_limit\u001b[0m\u001b[0;34m\u001b[0m\u001b[0;34m\u001b[0m\u001b[0m\n\u001b[0m\u001b[1;32m     58\u001b[0m \u001b[0;34m\u001b[0m\u001b[0m\n\u001b[1;32m     59\u001b[0m         \u001b[0malive\u001b[0m \u001b[0;34m=\u001b[0m \u001b[0mfloat\u001b[0m\u001b[0;34m(\u001b[0m\u001b[0mself\u001b[0m\u001b[0;34m.\u001b[0m\u001b[0mrobot\u001b[0m\u001b[0;34m.\u001b[0m\u001b[0malive_bonus\u001b[0m\u001b[0;34m(\u001b[0m\u001b[0mstate\u001b[0m\u001b[0;34m[\u001b[0m\u001b[0;36m0\u001b[0m\u001b[0;34m]\u001b[0m \u001b[0;34m+\u001b[0m \u001b[0mself\u001b[0m\u001b[0;34m.\u001b[0m\u001b[0mrobot\u001b[0m\u001b[0;34m.\u001b[0m\u001b[0minitial_z\u001b[0m\u001b[0;34m,\u001b[0m \u001b[0mself\u001b[0m\u001b[0;34m.\u001b[0m\u001b[0mrobot\u001b[0m\u001b[0;34m.\u001b[0m\u001b[0mbody_rpy\u001b[0m\u001b[0;34m[\u001b[0m\u001b[0;36m1\u001b[0m\u001b[0;34m]\u001b[0m\u001b[0;34m)\u001b[0m\u001b[0;34m)\u001b[0m   \u001b[0;31m# state[0] is body height above ground, body_rpy[1] is pitch\u001b[0m\u001b[0;34m\u001b[0m\u001b[0;34m\u001b[0m\u001b[0m\n",
      "\u001b[0;32m~/Code/pybullet-gym/pybulletgym/envs/roboschool/robots/locomotors/walker_base.py\u001b[0m in \u001b[0;36mcalc_state\u001b[0;34m(self)\u001b[0m\n\u001b[1;32m     63\u001b[0m                           \u001b[0;36m0.3\u001b[0m \u001b[0;34m*\u001b[0m \u001b[0mvx\u001b[0m\u001b[0;34m,\u001b[0m \u001b[0;36m0.3\u001b[0m \u001b[0;34m*\u001b[0m \u001b[0mvy\u001b[0m\u001b[0;34m,\u001b[0m \u001b[0;36m0.3\u001b[0m \u001b[0;34m*\u001b[0m \u001b[0mvz\u001b[0m\u001b[0;34m,\u001b[0m  \u001b[0;31m# 0.3 is just scaling typical speed into -1..+1, no physical sense here\u001b[0m\u001b[0;34m\u001b[0m\u001b[0;34m\u001b[0m\u001b[0m\n\u001b[1;32m     64\u001b[0m                           r, p], dtype=np.float32)\n\u001b[0;32m---> 65\u001b[0;31m         \u001b[0;32mreturn\u001b[0m \u001b[0mnp\u001b[0m\u001b[0;34m.\u001b[0m\u001b[0mclip\u001b[0m\u001b[0;34m(\u001b[0m\u001b[0mnp\u001b[0m\u001b[0;34m.\u001b[0m\u001b[0mconcatenate\u001b[0m\u001b[0;34m(\u001b[0m\u001b[0;34m[\u001b[0m\u001b[0mmore\u001b[0m\u001b[0;34m]\u001b[0m \u001b[0;34m+\u001b[0m \u001b[0;34m[\u001b[0m\u001b[0mj\u001b[0m\u001b[0;34m]\u001b[0m \u001b[0;34m+\u001b[0m \u001b[0;34m[\u001b[0m\u001b[0mself\u001b[0m\u001b[0;34m.\u001b[0m\u001b[0mfeet_contact\u001b[0m\u001b[0;34m]\u001b[0m\u001b[0;34m)\u001b[0m\u001b[0;34m,\u001b[0m \u001b[0;34m-\u001b[0m\u001b[0;36m5\u001b[0m\u001b[0;34m,\u001b[0m \u001b[0;34m+\u001b[0m\u001b[0;36m5\u001b[0m\u001b[0;34m)\u001b[0m\u001b[0;34m\u001b[0m\u001b[0;34m\u001b[0m\u001b[0m\n\u001b[0m\u001b[1;32m     66\u001b[0m \u001b[0;34m\u001b[0m\u001b[0m\n\u001b[1;32m     67\u001b[0m     \u001b[0;32mdef\u001b[0m \u001b[0mcalc_potential\u001b[0m\u001b[0;34m(\u001b[0m\u001b[0mself\u001b[0m\u001b[0;34m)\u001b[0m\u001b[0;34m:\u001b[0m\u001b[0;34m\u001b[0m\u001b[0;34m\u001b[0m\u001b[0m\n",
      "\u001b[0;32m~/anaconda3/envs/pycanvas/lib/python3.9/site-packages/numpy/core/overrides.py\u001b[0m in \u001b[0;36mconcatenate\u001b[0;34m(*args, **kwargs)\u001b[0m\n",
      "\u001b[0;31mKeyboardInterrupt\u001b[0m: "
     ]
    }
   ],
   "source": [
    "from tqdm import tqdm\n",
    "\n",
    "bar = tqdm(np.arange(50000))\n",
    "\n",
    "seed = 0\n",
    "\n",
    "torch.manual_seed(seed)\n",
    "np.random.seed(seed)\n",
    "\n",
    "for i in bar:\n",
    "    rollouts = optimizer.rollout(ppo_rollout, env=env)\n",
    "\n",
    "    losses = []\n",
    "    actor_losses = []\n",
    "    value_losses = []\n",
    "    rewards = []\n",
    "\n",
    "    for r in rollouts:\n",
    "        observations = torch.from_numpy(r[\"observations\"]).float().to(policy.device)\n",
    "        actions = torch.from_numpy(r[\"actions\"]).float().to(policy.device)\n",
    "        returns = torch.from_numpy(r[\"returns\"]).float().to(policy.device)\n",
    "        advantages = torch.from_numpy(r[\"advantages\"]).float().to(policy.device)\n",
    "        log_probs = torch.from_numpy(r[\"log_probs\"]).float().to(policy.device)\n",
    "\n",
    "        for _ in range(5): # train each episode for 5 iterations\n",
    "            optimizer.zero_grad()\n",
    "            loss, actor_loss, value_loss = optimizer.loss_fn(observations, actions, returns, advantages, log_probs)\n",
    "            loss.backward()\n",
    "            # torch.nn.utils.clip_grad_norm_(policy.parameters(), 100.0)\n",
    "            optimizer.step()\n",
    "\n",
    "            grad_dict = {}\n",
    "            for n, W in policy.named_parameters():\n",
    "                if W.grad is not None:\n",
    "                    grad_dict[\"{}_grad\".format(n)] = float(torch.sum(W.grad).item())\n",
    "\n",
    "        rewards.append(np.sum(r[\"rewards\"]))\n",
    "        losses.append(loss.item())\n",
    "        actor_losses.append(actor_loss.item())\n",
    "        value_losses.append(value_loss.item())\n",
    "\n",
    "    metrics_dict = {\"loss\":np.mean(losses), \"actor_loss\":np.mean(actor_losses), \"value_loss\":np.mean(value_losses), \"sum_reward\":np.mean(rewards), **grad_dict}\n",
    "\n",
    "    for key in metrics_dict:\n",
    "        writer.add_scalar(key, metrics_dict[key], i)\n",
    "\n",
    "\n",
    "    bar.set_description(\"Loss: {}, Reward: {}\".format(loss, np.mean(rewards)))"
   ]
  },
  {
   "cell_type": "code",
   "execution_count": 14,
   "metadata": {},
   "outputs": [],
   "source": [
    "def ppo_rollout(\n",
    "    policy: ACPolicy, env_name: str = None, env=None, env_creation_fn=None, render=True\n",
    ") -> Dict[str, np.array]:\n",
    "    if env_name is None and env is None:\n",
    "        raise ValueError(\"env_name or env must be provided!\")\n",
    "    if env is None:\n",
    "        if env_creation_fn is None:\n",
    "            env_creation_fn = gym.make\n",
    "        env = env_creation_fn(env_name)\n",
    "    done = False\n",
    "    observations, actions, rewards, log_probs, values = ([], [], [], [], [])\n",
    "    rendereds = []\n",
    "    observation = env.reset()\n",
    "    with torch.no_grad():\n",
    "        while not done:\n",
    "            rendered = None\n",
    "            if render:\n",
    "                rendered = env.render(mode=\"rgb_array\")\n",
    "            rendereds.append(rendered)\n",
    "            obs = torch.from_numpy(observation).to(policy.device)\n",
    "            action, out = policy.act(obs)\n",
    "            v = policy.critic(obs)\n",
    "            next_observation, reward, done, info = env.step(action)\n",
    "\n",
    "            observations.append(observation)\n",
    "            actions.append(action)\n",
    "            rewards.append(reward)\n",
    "            log_probs.append(out[\"log_probs\"].detach().cpu().numpy())\n",
    "            values.append(v.detach().cpu().numpy())\n",
    "\n",
    "            observation = next_observation\n",
    "    # env.close()\n",
    "    return {\n",
    "        \"observations\": np.array(observations),\n",
    "        \"actions\": np.array(actions),\n",
    "        \"rewards\": np.array(rewards),\n",
    "        \"log_probs\": np.array(log_probs),\n",
    "        \"values\": np.array(values),\n",
    "        \"renderds\": rendereds\n",
    "    }"
   ]
  },
  {
   "cell_type": "code",
   "execution_count": 20,
   "metadata": {},
   "outputs": [],
   "source": [
    "import numpy as np\n",
    "import matplotlib\n",
    "import matplotlib.pyplot as plt\n",
    "%matplotlib ipympl\n",
    "\n",
    "plt.style.use('ggplot')\n",
    "# Imports specifically so we can render outputs in Jupyter.\n",
    "from JSAnimation.IPython_display import display_animation\n",
    "from matplotlib import animation\n",
    "from IPython.display import display\n",
    "from celluloid import Camera\n",
    "from IPython.display import HTML\n",
    "\n",
    "\n",
    "def render_rollout(policy):\n",
    "    env = gym.make(\"AntPyBulletEnv-v0\")\n",
    "    fig = plt.figure(\"Animation\",figsize=(7,5))\n",
    "    camera = Camera(fig)\n",
    "    ax = fig.add_subplot(111)\n",
    "    out = ppo_rollout(policy=policy, env=env, render=True)\n",
    "    renderds = np.array(out[\"renderds\"])\n",
    "    frames = []\n",
    "    for r in renderds:\n",
    "        frame = ax.imshow(r)\n",
    "        ax.axis('off')\n",
    "        camera.snap()\n",
    "        frames.append([frame])\n",
    "    animation = camera.animate(blit=False, interval=50)\n",
    "    # display(animations.to_html5_video())\n",
    "    animation.save('Ant.mp4')\n",
    "    return animation\n"
   ]
  },
  {
   "cell_type": "code",
   "execution_count": 21,
   "metadata": {},
   "outputs": [
    {
     "name": "stdout",
     "output_type": "stream",
     "text": [
      "WalkerBase::__init__\n"
     ]
    },
    {
     "data": {
      "application/vnd.jupyter.widget-view+json": {
       "model_id": "a234c758a70b43bdbde64cdaf220ac01",
       "version_major": 2,
       "version_minor": 0
      },
      "image/png": "[encoded data removed]",
      "text/html": [
       "\n",
       "            <div style=\"display: inline-block;\">\n",
       "                <div class=\"jupyter-widgets widget-label\" style=\"text-align: center;\">\n",
       "                    Animation\n",
       "                </div>\n",
       "                <img src='data:image/png;base64,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' width=700.0/>\n",
       "            </div>\n",
       "        "
      ],
      "text/plain": [
       "Canvas(toolbar=Toolbar(toolitems=[('Home', 'Reset original view', 'home', 'home'), ('Back', 'Back to previous …"
      ]
     },
     "metadata": {},
     "output_type": "display_data"
    }
   ],
   "source": [
    "animation = render_rollout(policy)"
   ]
  },
  {
   "cell_type": "code",
   "execution_count": 22,
   "metadata": {},
   "outputs": [
    {
     "data": {
      "text/html": [
       "<video src=\"Ant.mp4\" controls  >\n",
       "      Your browser does not support the <code>video</code> element.\n",
       "    </video>"
      ],
      "text/plain": [
       "<IPython.core.display.Video object>"
      ]
     },
     "execution_count": 22,
     "metadata": {},
     "output_type": "execute_result"
    }
   ],
   "source": [
    "from IPython.display import Video\n",
    "Video(\"Ant.mp4\")"
   ]
  }
 ],
 "metadata": {
  "interpreter": {
   "hash": "1d64cb66d3d902aa83000daa06ca958bef94bde318911a82aee5f8df2bb8934b"
  },
  "kernelspec": {
   "display_name": "Python 3.9.7 ('pycanvas')",
   "language": "python",
   "name": "python3"
  },
  "language_info": {
   "codemirror_mode": {
    "name": "ipython",
    "version": 3
   },
   "file_extension": ".py",
   "mimetype": "text/x-python",
   "name": "python",
   "nbconvert_exporter": "python",
   "pygments_lexer": "ipython3",
   "version": "3.9.7"
  },
  "orig_nbformat": 4
 },
 "nbformat": 4,
 "nbformat_minor": 2
}
