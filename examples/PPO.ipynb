{
 "cells": [
  {
   "cell_type": "code",
   "execution_count": 1,
   "metadata": {},
   "outputs": [],
   "source": [
    "from typing import Any, Dict  # noqa\n",
    "\n",
    "import gym\n",
    "import numpy as np\n",
    "import torch\n",
    "import torch.nn.functional as F\n",
    "import torch.optim as optim\n",
    "import pybulletgym\n",
    "\n",
    "from ezrl.algorithms.ppo import PPOOptimizer\n",
    "from ezrl.policy import ACPolicy"
   ]
  },
  {
   "cell_type": "code",
   "execution_count": 2,
   "metadata": {},
   "outputs": [],
   "source": [
    "import torch.nn as nn\n",
    "import torch.distributions as td\n",
    "\n",
    "class AntACPolicy(ACPolicy):\n",
    "    def __init__(self):\n",
    "        super().__init__()\n",
    "        self.input_dims = 28\n",
    "        self.action_dims = 8\n",
    "\n",
    "        self.policy_net = nn.Sequential(\n",
    "            nn.Linear(28, 64),\n",
    "            nn.Tanh(),\n",
    "            nn.Linear(64, 64),\n",
    "            nn.Tanh(),\n",
    "            nn.Linear(64, 8, bias=False)\n",
    "        )\n",
    "\n",
    "        self.critic_net = nn.Sequential(\n",
    "            nn.Linear(28, 32),\n",
    "            nn.Tanh(),\n",
    "            nn.Linear(32, 32),\n",
    "            nn.Tanh(),\n",
    "            nn.Linear(32, 1, bias=False)\n",
    "        )\n",
    "\n",
    "        log_std = -0.5 * np.ones(self.action_dims, dtype=np.float32)\n",
    "        self.log_std = torch.nn.Parameter(torch.as_tensor(log_std))\n",
    "\n",
    "    def log_prob(self, dist: td.Distribution, actions: torch.Tensor):\n",
    "        if isinstance(dist, td.Categorical):\n",
    "            return dist.log_prob(actions)\n",
    "        return dist.log_prob(actions).sum(axis=-1)\n",
    "\n",
    "    def forward(self, obs: Any) -> Dict[str, Any]:\n",
    "        mu = self.policy_net(obs)\n",
    "        std = torch.exp(self.log_std)\n",
    "        dist = td.normal.Normal(mu, std)\n",
    "        action = dist.sample()\n",
    "        log_probs = self.log_prob(dist, action)\n",
    "        value = self.critic_net(obs).squeeze()\n",
    "        return {\"action\":action, \"dist\":dist, \"log_probs\":log_probs, \"values\":value}\n",
    "\n",
    "    def critic(self, obs:Any):\n",
    "        return self.critic_net(obs).squeeze()\n",
    "\n",
    "    def act(self, obs: Any):\n",
    "        out = self.forward(obs)\n",
    "        return np.squeeze(out[\"action\"].detach().cpu().numpy()), out"
   ]
  },
  {
   "cell_type": "code",
   "execution_count": 3,
   "metadata": {},
   "outputs": [],
   "source": [
    "def ppo_rollout(\n",
    "    policy: ACPolicy, env_name: str = None, env=None, env_creation_fn=None\n",
    ") -> Dict[str, np.array]:\n",
    "    if env_name is None and env is None:\n",
    "        raise ValueError(\"env_name or env must be provided!\")\n",
    "    if env is None:\n",
    "        if env_creation_fn is None:\n",
    "            env_creation_fn = gym.make\n",
    "        env = env_creation_fn(env_name)\n",
    "    done = False\n",
    "    observations, actions, rewards, log_probs, values = ([], [], [], [], [])\n",
    "    observation = env.reset()\n",
    "    with torch.no_grad():\n",
    "        while not done:\n",
    "            obs = torch.from_numpy(observation).to(policy.device)\n",
    "            action, out = policy.act(obs)\n",
    "            v = out[\"values\"]\n",
    "            next_observation, reward, done, info = env.step(action)\n",
    "\n",
    "            observations.append(observation)\n",
    "            actions.append(action)\n",
    "            rewards.append(reward)\n",
    "            log_probs.append(out[\"log_probs\"].detach().cpu().numpy())\n",
    "            values.append(v.detach().cpu().numpy())\n",
    "\n",
    "            observation = next_observation\n",
    "    # env.close()\n",
    "    return {\n",
    "        \"observations\": np.array(observations),\n",
    "        \"actions\": np.array(actions),\n",
    "        \"rewards\": np.array(rewards),\n",
    "        \"log_probs\": np.array(log_probs),\n",
    "        \"values\": np.array(values),\n",
    "    }"
   ]
  },
  {
   "cell_type": "code",
   "execution_count": 4,
   "metadata": {},
   "outputs": [],
   "source": [
    "from ezrl.utils import get_tensorboard_logger"
   ]
  },
  {
   "cell_type": "code",
   "execution_count": 5,
   "metadata": {},
   "outputs": [
    {
     "name": "stderr",
     "output_type": "stream",
     "text": [
      "  0%|          | 0/50000 [00:00<?, ?it/s]pybullet build time: Dec 23 2020 01:49:05\n"
     ]
    },
    {
     "name": "stdout",
     "output_type": "stream",
     "text": [
      "WalkerBase::__init__\n",
      "Follow tensorboard logs with: tensorboard --logdir '/home/shyam/Code/ez-rl/examples/tensorboard_logs/PPOOptimizer_2022-05-21 01:41:01.574102'\n"
     ]
    },
    {
     "name": "stderr",
     "output_type": "stream",
     "text": [
      "Loss: 217.10606384277344, Reward: 854.6888279715931:   3%|▎         | 1591/50000 [46:16<23:28:11,  1.75s/it] \n"
     ]
    },
    {
     "ename": "KeyboardInterrupt",
     "evalue": "",
     "output_type": "error",
     "traceback": [
      "\u001b[0;31m---------------------------------------------------------------------------\u001b[0m",
      "\u001b[0;31mKeyboardInterrupt\u001b[0m                         Traceback (most recent call last)",
      "\u001b[0;32m/tmp/ipykernel_7287/1141673739.py\u001b[0m in \u001b[0;36m<module>\u001b[0;34m\u001b[0m\n\u001b[1;32m     19\u001b[0m \u001b[0;34m\u001b[0m\u001b[0m\n\u001b[1;32m     20\u001b[0m \u001b[0;32mfor\u001b[0m \u001b[0mi\u001b[0m \u001b[0;32min\u001b[0m \u001b[0mbar\u001b[0m\u001b[0;34m:\u001b[0m\u001b[0;34m\u001b[0m\u001b[0;34m\u001b[0m\u001b[0m\n\u001b[0;32m---> 21\u001b[0;31m     \u001b[0mrollouts\u001b[0m \u001b[0;34m=\u001b[0m \u001b[0moptimizer\u001b[0m\u001b[0;34m.\u001b[0m\u001b[0mrollout\u001b[0m\u001b[0;34m(\u001b[0m\u001b[0mppo_rollout\u001b[0m\u001b[0;34m,\u001b[0m \u001b[0menv\u001b[0m\u001b[0;34m=\u001b[0m\u001b[0menv\u001b[0m\u001b[0;34m)\u001b[0m\u001b[0;34m\u001b[0m\u001b[0;34m\u001b[0m\u001b[0m\n\u001b[0m\u001b[1;32m     22\u001b[0m \u001b[0;34m\u001b[0m\u001b[0m\n\u001b[1;32m     23\u001b[0m     \u001b[0mlosses\u001b[0m \u001b[0;34m=\u001b[0m \u001b[0;34m[\u001b[0m\u001b[0;34m]\u001b[0m\u001b[0;34m\u001b[0m\u001b[0;34m\u001b[0m\u001b[0m\n",
      "\u001b[0;32m~/anaconda3/envs/pycanvas/lib/python3.9/site-packages/ezrl-0.1.0-py3.9.egg/ezrl/algorithms/ppo.py\u001b[0m in \u001b[0;36mrollout\u001b[0;34m(self, rollout_fn, pool, num_rollouts, *args, **kwargs)\u001b[0m\n\u001b[1;32m    226\u001b[0m             \u001b[0mrollout_fn\u001b[0m \u001b[0;34m=\u001b[0m \u001b[0mppo_rollout\u001b[0m\u001b[0;34m\u001b[0m\u001b[0;34m\u001b[0m\u001b[0m\n\u001b[1;32m    227\u001b[0m         \u001b[0;32mif\u001b[0m \u001b[0mpool\u001b[0m \u001b[0;32mis\u001b[0m \u001b[0;32mNone\u001b[0m\u001b[0;34m:\u001b[0m\u001b[0;34m\u001b[0m\u001b[0;34m\u001b[0m\u001b[0m\n\u001b[0;32m--> 228\u001b[0;31m             rollouts = [\n\u001b[0m\u001b[1;32m    229\u001b[0m                 \u001b[0mrollout_fn\u001b[0m\u001b[0;34m(\u001b[0m\u001b[0mself\u001b[0m\u001b[0;34m.\u001b[0m\u001b[0mpolicy\u001b[0m\u001b[0;34m,\u001b[0m \u001b[0;34m*\u001b[0m\u001b[0margs\u001b[0m\u001b[0;34m,\u001b[0m \u001b[0;34m**\u001b[0m\u001b[0mkwargs\u001b[0m\u001b[0;34m)\u001b[0m \u001b[0;32mfor\u001b[0m \u001b[0m_\u001b[0m \u001b[0;32min\u001b[0m \u001b[0mrange\u001b[0m\u001b[0;34m(\u001b[0m\u001b[0mnum_rollouts\u001b[0m\u001b[0;34m)\u001b[0m\u001b[0;34m\u001b[0m\u001b[0;34m\u001b[0m\u001b[0m\n\u001b[1;32m    230\u001b[0m             ]\n",
      "\u001b[0;32m~/anaconda3/envs/pycanvas/lib/python3.9/site-packages/ezrl-0.1.0-py3.9.egg/ezrl/algorithms/ppo.py\u001b[0m in \u001b[0;36m<listcomp>\u001b[0;34m(.0)\u001b[0m\n\u001b[1;32m    227\u001b[0m         \u001b[0;32mif\u001b[0m \u001b[0mpool\u001b[0m \u001b[0;32mis\u001b[0m \u001b[0;32mNone\u001b[0m\u001b[0;34m:\u001b[0m\u001b[0;34m\u001b[0m\u001b[0;34m\u001b[0m\u001b[0m\n\u001b[1;32m    228\u001b[0m             rollouts = [\n\u001b[0;32m--> 229\u001b[0;31m                 \u001b[0mrollout_fn\u001b[0m\u001b[0;34m(\u001b[0m\u001b[0mself\u001b[0m\u001b[0;34m.\u001b[0m\u001b[0mpolicy\u001b[0m\u001b[0;34m,\u001b[0m \u001b[0;34m*\u001b[0m\u001b[0margs\u001b[0m\u001b[0;34m,\u001b[0m \u001b[0;34m**\u001b[0m\u001b[0mkwargs\u001b[0m\u001b[0;34m)\u001b[0m \u001b[0;32mfor\u001b[0m \u001b[0m_\u001b[0m \u001b[0;32min\u001b[0m \u001b[0mrange\u001b[0m\u001b[0;34m(\u001b[0m\u001b[0mnum_rollouts\u001b[0m\u001b[0;34m)\u001b[0m\u001b[0;34m\u001b[0m\u001b[0;34m\u001b[0m\u001b[0m\n\u001b[0m\u001b[1;32m    230\u001b[0m             ]\n\u001b[1;32m    231\u001b[0m         \u001b[0;32melse\u001b[0m\u001b[0;34m:\u001b[0m\u001b[0;34m\u001b[0m\u001b[0;34m\u001b[0m\u001b[0m\n",
      "\u001b[0;32m/tmp/ipykernel_7287/3228011633.py\u001b[0m in \u001b[0;36mppo_rollout\u001b[0;34m(policy, env_name, env, env_creation_fn)\u001b[0m\n\u001b[1;32m     16\u001b[0m             \u001b[0maction\u001b[0m\u001b[0;34m,\u001b[0m \u001b[0mout\u001b[0m \u001b[0;34m=\u001b[0m \u001b[0mpolicy\u001b[0m\u001b[0;34m.\u001b[0m\u001b[0mact\u001b[0m\u001b[0;34m(\u001b[0m\u001b[0mobs\u001b[0m\u001b[0;34m)\u001b[0m\u001b[0;34m\u001b[0m\u001b[0;34m\u001b[0m\u001b[0m\n\u001b[1;32m     17\u001b[0m             \u001b[0mv\u001b[0m \u001b[0;34m=\u001b[0m \u001b[0mout\u001b[0m\u001b[0;34m[\u001b[0m\u001b[0;34m\"values\"\u001b[0m\u001b[0;34m]\u001b[0m\u001b[0;34m\u001b[0m\u001b[0;34m\u001b[0m\u001b[0m\n\u001b[0;32m---> 18\u001b[0;31m             \u001b[0mnext_observation\u001b[0m\u001b[0;34m,\u001b[0m \u001b[0mreward\u001b[0m\u001b[0;34m,\u001b[0m \u001b[0mdone\u001b[0m\u001b[0;34m,\u001b[0m \u001b[0minfo\u001b[0m \u001b[0;34m=\u001b[0m \u001b[0menv\u001b[0m\u001b[0;34m.\u001b[0m\u001b[0mstep\u001b[0m\u001b[0;34m(\u001b[0m\u001b[0maction\u001b[0m\u001b[0;34m)\u001b[0m\u001b[0;34m\u001b[0m\u001b[0;34m\u001b[0m\u001b[0m\n\u001b[0m\u001b[1;32m     19\u001b[0m \u001b[0;34m\u001b[0m\u001b[0m\n\u001b[1;32m     20\u001b[0m             \u001b[0mobservations\u001b[0m\u001b[0;34m.\u001b[0m\u001b[0mappend\u001b[0m\u001b[0;34m(\u001b[0m\u001b[0mobservation\u001b[0m\u001b[0;34m)\u001b[0m\u001b[0;34m\u001b[0m\u001b[0;34m\u001b[0m\u001b[0m\n",
      "\u001b[0;32m~/anaconda3/envs/pycanvas/lib/python3.9/site-packages/gym/wrappers/time_limit.py\u001b[0m in \u001b[0;36mstep\u001b[0;34m(self, action)\u001b[0m\n\u001b[1;32m     14\u001b[0m     \u001b[0;32mdef\u001b[0m \u001b[0mstep\u001b[0m\u001b[0;34m(\u001b[0m\u001b[0mself\u001b[0m\u001b[0;34m,\u001b[0m \u001b[0maction\u001b[0m\u001b[0;34m)\u001b[0m\u001b[0;34m:\u001b[0m\u001b[0;34m\u001b[0m\u001b[0;34m\u001b[0m\u001b[0m\n\u001b[1;32m     15\u001b[0m         \u001b[0;32massert\u001b[0m \u001b[0mself\u001b[0m\u001b[0;34m.\u001b[0m\u001b[0m_elapsed_steps\u001b[0m \u001b[0;32mis\u001b[0m \u001b[0;32mnot\u001b[0m \u001b[0;32mNone\u001b[0m\u001b[0;34m,\u001b[0m \u001b[0;34m\"Cannot call env.step() before calling reset()\"\u001b[0m\u001b[0;34m\u001b[0m\u001b[0;34m\u001b[0m\u001b[0m\n\u001b[0;32m---> 16\u001b[0;31m         \u001b[0mobservation\u001b[0m\u001b[0;34m,\u001b[0m \u001b[0mreward\u001b[0m\u001b[0;34m,\u001b[0m \u001b[0mdone\u001b[0m\u001b[0;34m,\u001b[0m \u001b[0minfo\u001b[0m \u001b[0;34m=\u001b[0m \u001b[0mself\u001b[0m\u001b[0;34m.\u001b[0m\u001b[0menv\u001b[0m\u001b[0;34m.\u001b[0m\u001b[0mstep\u001b[0m\u001b[0;34m(\u001b[0m\u001b[0maction\u001b[0m\u001b[0;34m)\u001b[0m\u001b[0;34m\u001b[0m\u001b[0;34m\u001b[0m\u001b[0m\n\u001b[0m\u001b[1;32m     17\u001b[0m         \u001b[0mself\u001b[0m\u001b[0;34m.\u001b[0m\u001b[0m_elapsed_steps\u001b[0m \u001b[0;34m+=\u001b[0m \u001b[0;36m1\u001b[0m\u001b[0;34m\u001b[0m\u001b[0;34m\u001b[0m\u001b[0m\n\u001b[1;32m     18\u001b[0m         \u001b[0;32mif\u001b[0m \u001b[0mself\u001b[0m\u001b[0;34m.\u001b[0m\u001b[0m_elapsed_steps\u001b[0m \u001b[0;34m>=\u001b[0m \u001b[0mself\u001b[0m\u001b[0;34m.\u001b[0m\u001b[0m_max_episode_steps\u001b[0m\u001b[0;34m:\u001b[0m\u001b[0;34m\u001b[0m\u001b[0;34m\u001b[0m\u001b[0m\n",
      "\u001b[0;32m~/Code/pybullet-gym/pybulletgym/envs/roboschool/envs/locomotion/walker_base_env.py\u001b[0m in \u001b[0;36mstep\u001b[0;34m(self, a)\u001b[0m\n\u001b[1;32m     55\u001b[0m             \u001b[0mself\u001b[0m\u001b[0;34m.\u001b[0m\u001b[0mscene\u001b[0m\u001b[0;34m.\u001b[0m\u001b[0mglobal_step\u001b[0m\u001b[0;34m(\u001b[0m\u001b[0;34m)\u001b[0m\u001b[0;34m\u001b[0m\u001b[0;34m\u001b[0m\u001b[0m\n\u001b[1;32m     56\u001b[0m \u001b[0;34m\u001b[0m\u001b[0m\n\u001b[0;32m---> 57\u001b[0;31m         \u001b[0mstate\u001b[0m \u001b[0;34m=\u001b[0m \u001b[0mself\u001b[0m\u001b[0;34m.\u001b[0m\u001b[0mrobot\u001b[0m\u001b[0;34m.\u001b[0m\u001b[0mcalc_state\u001b[0m\u001b[0;34m(\u001b[0m\u001b[0;34m)\u001b[0m  \u001b[0;31m# also calculates self.joints_at_limit\u001b[0m\u001b[0;34m\u001b[0m\u001b[0;34m\u001b[0m\u001b[0m\n\u001b[0m\u001b[1;32m     58\u001b[0m \u001b[0;34m\u001b[0m\u001b[0m\n\u001b[1;32m     59\u001b[0m         \u001b[0malive\u001b[0m \u001b[0;34m=\u001b[0m \u001b[0mfloat\u001b[0m\u001b[0;34m(\u001b[0m\u001b[0mself\u001b[0m\u001b[0;34m.\u001b[0m\u001b[0mrobot\u001b[0m\u001b[0;34m.\u001b[0m\u001b[0malive_bonus\u001b[0m\u001b[0;34m(\u001b[0m\u001b[0mstate\u001b[0m\u001b[0;34m[\u001b[0m\u001b[0;36m0\u001b[0m\u001b[0;34m]\u001b[0m \u001b[0;34m+\u001b[0m \u001b[0mself\u001b[0m\u001b[0;34m.\u001b[0m\u001b[0mrobot\u001b[0m\u001b[0;34m.\u001b[0m\u001b[0minitial_z\u001b[0m\u001b[0;34m,\u001b[0m \u001b[0mself\u001b[0m\u001b[0;34m.\u001b[0m\u001b[0mrobot\u001b[0m\u001b[0;34m.\u001b[0m\u001b[0mbody_rpy\u001b[0m\u001b[0;34m[\u001b[0m\u001b[0;36m1\u001b[0m\u001b[0;34m]\u001b[0m\u001b[0;34m)\u001b[0m\u001b[0;34m)\u001b[0m   \u001b[0;31m# state[0] is body height above ground, body_rpy[1] is pitch\u001b[0m\u001b[0;34m\u001b[0m\u001b[0;34m\u001b[0m\u001b[0m\n",
      "\u001b[0;32m~/Code/pybullet-gym/pybulletgym/envs/roboschool/robots/locomotors/walker_base.py\u001b[0m in \u001b[0;36mcalc_state\u001b[0;34m(self)\u001b[0m\n\u001b[1;32m     40\u001b[0m         \u001b[0mparts_xyz\u001b[0m \u001b[0;34m=\u001b[0m \u001b[0mnp\u001b[0m\u001b[0;34m.\u001b[0m\u001b[0marray\u001b[0m\u001b[0;34m(\u001b[0m\u001b[0;34m[\u001b[0m\u001b[0mp\u001b[0m\u001b[0;34m.\u001b[0m\u001b[0mpose\u001b[0m\u001b[0;34m(\u001b[0m\u001b[0;34m)\u001b[0m\u001b[0;34m.\u001b[0m\u001b[0mxyz\u001b[0m\u001b[0;34m(\u001b[0m\u001b[0;34m)\u001b[0m \u001b[0;32mfor\u001b[0m \u001b[0mp\u001b[0m \u001b[0;32min\u001b[0m \u001b[0mself\u001b[0m\u001b[0;34m.\u001b[0m\u001b[0mparts\u001b[0m\u001b[0;34m.\u001b[0m\u001b[0mvalues\u001b[0m\u001b[0;34m(\u001b[0m\u001b[0;34m)\u001b[0m\u001b[0;34m]\u001b[0m\u001b[0;34m)\u001b[0m\u001b[0;34m.\u001b[0m\u001b[0mflatten\u001b[0m\u001b[0;34m(\u001b[0m\u001b[0;34m)\u001b[0m\u001b[0;34m\u001b[0m\u001b[0;34m\u001b[0m\u001b[0m\n\u001b[1;32m     41\u001b[0m         self.body_xyz = (\n\u001b[0;32m---> 42\u001b[0;31m             parts_xyz[0::3].mean(), parts_xyz[1::3].mean(), body_pose.xyz()[2])  # torso z is more informative than mean z\n\u001b[0m\u001b[1;32m     43\u001b[0m         \u001b[0mself\u001b[0m\u001b[0;34m.\u001b[0m\u001b[0mbody_rpy\u001b[0m \u001b[0;34m=\u001b[0m \u001b[0mbody_pose\u001b[0m\u001b[0;34m.\u001b[0m\u001b[0mrpy\u001b[0m\u001b[0;34m(\u001b[0m\u001b[0;34m)\u001b[0m\u001b[0;34m\u001b[0m\u001b[0;34m\u001b[0m\u001b[0m\n\u001b[1;32m     44\u001b[0m         \u001b[0mz\u001b[0m \u001b[0;34m=\u001b[0m \u001b[0mself\u001b[0m\u001b[0;34m.\u001b[0m\u001b[0mbody_xyz\u001b[0m\u001b[0;34m[\u001b[0m\u001b[0;36m2\u001b[0m\u001b[0;34m]\u001b[0m\u001b[0;34m\u001b[0m\u001b[0;34m\u001b[0m\u001b[0m\n",
      "\u001b[0;31mKeyboardInterrupt\u001b[0m: "
     ]
    }
   ],
   "source": [
    "from tqdm import tqdm\n",
    "import gym\n",
    "\n",
    "bar = tqdm(np.arange(50000))\n",
    "\n",
    "seed = 0\n",
    "\n",
    "torch.manual_seed(seed)\n",
    "np.random.seed(seed)\n",
    "\n",
    "\n",
    "policy = AntACPolicy()\n",
    "device = torch.device('cuda')\n",
    "policy = policy.to(device)\n",
    "\n",
    "env = gym.make(\"AntPyBulletEnv-v0\")\n",
    "optimizer = PPOOptimizer(policy, pi_lr=0.0005)\n",
    "writer = get_tensorboard_logger(\"PPOOptimizer\")\n",
    "\n",
    "for i in bar:\n",
    "    rollouts = optimizer.rollout(ppo_rollout, env=env)\n",
    "\n",
    "    losses = []\n",
    "    actor_losses = []\n",
    "    value_losses = []\n",
    "    rewards = []\n",
    "\n",
    "    for r in rollouts:\n",
    "        observations = torch.from_numpy(r[\"observations\"]).float().to(policy.device)\n",
    "        actions = torch.from_numpy(r[\"actions\"]).float().to(policy.device)\n",
    "        log_probs = torch.from_numpy(r[\"log_probs\"]).float().to(policy.device)\n",
    "        torch_rewards = torch.from_numpy(r[\"rewards\"]).float().to(policy.device)\n",
    "        torch_values = torch.from_numpy(r[\"values\"]).float().to(policy.device)\n",
    "\n",
    "        for _ in range(5): # train each episode for 5 iterations\n",
    "            optimizer.zero_grad()\n",
    "            loss, actor_loss, value_loss = optimizer.loss_fn(observations, actions, log_probs, torch_rewards, torch_values)\n",
    "            loss.backward()\n",
    "            # torch.nn.utils.clip_grad_norm_(policy.parameters(), 100.0)\n",
    "            optimizer.step()\n",
    "\n",
    "            grad_dict = {}\n",
    "            for n, W in policy.named_parameters():\n",
    "                if W.grad is not None:\n",
    "                    grad_dict[\"{}_grad\".format(n)] = float(torch.sum(W.grad).item())\n",
    "\n",
    "        rewards.append(np.sum(r[\"rewards\"]))\n",
    "        losses.append(loss.item())\n",
    "        actor_losses.append(actor_loss.item())\n",
    "        value_losses.append(value_loss.item())\n",
    "\n",
    "    metrics_dict = {\"loss\":np.mean(losses), \"actor_loss\":np.mean(actor_losses), \"value_loss\":np.mean(value_losses), \"sum_reward\":np.mean(rewards), **grad_dict}\n",
    "\n",
    "    for key in metrics_dict:\n",
    "        writer.add_scalar(key, metrics_dict[key], i)\n",
    "\n",
    "\n",
    "    bar.set_description(\"Loss: {}, Reward: {}\".format(loss, np.mean(rewards)))"
   ]
  },
  {
   "cell_type": "code",
   "execution_count": 6,
   "metadata": {},
   "outputs": [],
   "source": [
    "def ppo_rollout(\n",
    "    policy: ACPolicy, env_name: str = None, env=None, env_creation_fn=None, render=True\n",
    ") -> Dict[str, np.array]:\n",
    "    if env_name is None and env is None:\n",
    "        raise ValueError(\"env_name or env must be provided!\")\n",
    "    if env is None:\n",
    "        if env_creation_fn is None:\n",
    "            env_creation_fn = gym.make\n",
    "        env = env_creation_fn(env_name)\n",
    "    done = False\n",
    "    observations, actions, rewards, log_probs, values = ([], [], [], [], [])\n",
    "    rendereds = []\n",
    "    observation = env.reset()\n",
    "    with torch.no_grad():\n",
    "        while not done:\n",
    "            rendered = None\n",
    "            if render:\n",
    "                rendered = env.render(mode=\"rgb_array\")\n",
    "            rendereds.append(rendered)\n",
    "            obs = torch.from_numpy(observation).to(policy.device)\n",
    "            action, out = policy.act(obs)\n",
    "            v = policy.critic(obs)\n",
    "            next_observation, reward, done, info = env.step(action)\n",
    "\n",
    "            observations.append(observation)\n",
    "            actions.append(action)\n",
    "            rewards.append(reward)\n",
    "            log_probs.append(out[\"log_probs\"].detach().cpu().numpy())\n",
    "            values.append(v.detach().cpu().numpy())\n",
    "\n",
    "            observation = next_observation\n",
    "    # env.close()\n",
    "    return {\n",
    "        \"observations\": np.array(observations),\n",
    "        \"actions\": np.array(actions),\n",
    "        \"rewards\": np.array(rewards),\n",
    "        \"log_probs\": np.array(log_probs),\n",
    "        \"values\": np.array(values),\n",
    "        \"renderds\": rendereds\n",
    "    }"
   ]
  },
  {
   "cell_type": "code",
   "execution_count": 7,
   "metadata": {},
   "outputs": [],
   "source": [
    "import numpy as np\n",
    "import matplotlib\n",
    "import matplotlib.pyplot as plt\n",
    "%matplotlib ipympl\n",
    "\n",
    "plt.style.use('ggplot')\n",
    "# Imports specifically so we can render outputs in Jupyter.\n",
    "from JSAnimation.IPython_display import display_animation\n",
    "from matplotlib import animation\n",
    "from IPython.display import display\n",
    "from celluloid import Camera\n",
    "from IPython.display import HTML\n",
    "\n",
    "\n",
    "def render_rollout(policy):\n",
    "    env = gym.make(\"AntPyBulletEnv-v0\")\n",
    "    fig = plt.figure(\"Animation\",figsize=(7,5))\n",
    "    camera = Camera(fig)\n",
    "    ax = fig.add_subplot(111)\n",
    "    out = ppo_rollout(policy=policy, env=env, render=True)\n",
    "    renderds = np.array(out[\"renderds\"])\n",
    "    frames = []\n",
    "    for r in renderds:\n",
    "        frame = ax.imshow(r)\n",
    "        ax.axis('off')\n",
    "        camera.snap()\n",
    "        frames.append([frame])\n",
    "    animation = camera.animate(blit=False, interval=50)\n",
    "    # display(animations.to_html5_video())\n",
    "    animation.save('Ant.mp4')\n",
    "    return animation\n"
   ]
  },
  {
   "cell_type": "code",
   "execution_count": 8,
   "metadata": {},
   "outputs": [
    {
     "name": "stdout",
     "output_type": "stream",
     "text": [
      "WalkerBase::__init__\n"
     ]
    },
    {
     "data": {
      "application/vnd.jupyter.widget-view+json": {
       "model_id": "c1bef8bc38f5431b9c2ed33dae69f981",
       "version_major": 2,
       "version_minor": 0
      },
      "image/png": "[encoded data removed]",
      "text/html": [
       "\n",
       "            <div style=\"display: inline-block;\">\n",
       "                <div class=\"jupyter-widgets widget-label\" style=\"text-align: center;\">\n",
       "                    Animation\n",
       "                </div>\n",
       "                <img src='data:image/png;base64,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' width=700.0/>\n",
       "            </div>\n",
       "        "
      ],
      "text/plain": [
       "Canvas(toolbar=Toolbar(toolitems=[('Home', 'Reset original view', 'home', 'home'), ('Back', 'Back to previous …"
      ]
     },
     "metadata": {},
     "output_type": "display_data"
    }
   ],
   "source": [
    "animation = render_rollout(policy)"
   ]
  },
  {
   "cell_type": "code",
   "execution_count": 10,
   "metadata": {},
   "outputs": [
    {
     "data": {
      "text/html": [
       "<video src=\"Ant.mp4\" controls  >\n",
       "      Your browser does not support the <code>video</code> element.\n",
       "    </video>"
      ],
      "text/plain": [
       "<IPython.core.display.Video object>"
      ]
     },
     "execution_count": 10,
     "metadata": {},
     "output_type": "execute_result"
    }
   ],
   "source": [
    "from IPython.display import Video\n",
    "Video(\"Ant.mp4\")"
   ]
  }
 ],
 "metadata": {
  "interpreter": {
   "hash": "1d64cb66d3d902aa83000daa06ca958bef94bde318911a82aee5f8df2bb8934b"
  },
  "kernelspec": {
   "display_name": "Python 3 (ipykernel)",
   "language": "python",
   "name": "python3"
  },
  "language_info": {
   "codemirror_mode": {
    "name": "ipython",
    "version": 3
   },
   "file_extension": ".py",
   "mimetype": "text/x-python",
   "name": "python",
   "nbconvert_exporter": "python",
   "pygments_lexer": "ipython3",
   "version": "3.9.0"
  }
 },
 "nbformat": 4,
 "nbformat_minor": 4
}
