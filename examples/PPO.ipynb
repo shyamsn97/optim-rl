{
 "cells": [
  {
   "cell_type": "code",
   "execution_count": null,
   "metadata": {},
   "outputs": [],
   "source": [
    "from typing import Any, Dict  # noqa\n",
    "\n",
    "import gym\n",
    "import numpy as np\n",
    "import torch\n",
    "import torch.nn.functional as F\n",
    "import torch.optim as optim\n",
    "import pybulletgym\n",
    "\n",
    "from ezrl.algorithms.ppo import PPOOptimizer\n",
    "from ezrl.policy import ACPolicy"
   ]
  },
  {
   "cell_type": "code",
   "execution_count": null,
   "metadata": {},
   "outputs": [],
   "source": [
    "import torch.nn as nn\n",
    "import torch.distributions as td\n",
    "\n",
    "class AntACPolicy(ACPolicy):\n",
    "    def __init__(self):\n",
    "        super().__init__()\n",
    "        self.input_dims = 28\n",
    "        self.action_dims = 8\n",
    "\n",
    "        self.policy_net = nn.Sequential(\n",
    "            nn.Linear(28, 64),\n",
    "            nn.Tanh(),\n",
    "            nn.Linear(64, 64),\n",
    "            nn.Tanh(),\n",
    "            nn.Linear(64, 8, bias=False)\n",
    "        )\n",
    "\n",
    "        self.critic_net = nn.Sequential(\n",
    "            nn.Linear(28, 32),\n",
    "            nn.Tanh(),\n",
    "            nn.Linear(32, 32),\n",
    "            nn.Tanh(),\n",
    "            nn.Linear(32, 1, bias=False)\n",
    "        )\n",
    "\n",
    "        log_std = -0.5 * np.ones(self.action_dims, dtype=np.float32)\n",
    "        self.log_std = torch.nn.Parameter(torch.as_tensor(log_std))\n",
    "\n",
    "    def log_prob(self, dist: td.Distribution, actions: torch.Tensor):\n",
    "        if isinstance(dist, td.Categorical):\n",
    "            return dist.log_prob(actions)\n",
    "        return dist.log_prob(actions).sum(axis=-1)\n",
    "\n",
    "    def forward(self, obs: Any) -> Dict[str, Any]:\n",
    "        mu = torch.tanh(self.policy_net(obs))\n",
    "        std = torch.exp(self.log_std)\n",
    "        dist = td.normal.Normal(mu, std)\n",
    "        action = torch.clamp(dist.sample(), -1.0, 1.0)\n",
    "        log_probs = self.log_prob(dist, action)\n",
    "        return {\"action\":action, \"dist\":dist, \"log_probs\":log_probs}\n",
    "\n",
    "    def critic(self, obs:Any):\n",
    "        return self.critic_net(obs).squeeze()\n",
    "\n",
    "    def act(self, obs: Any):\n",
    "        out = self.forward(obs)\n",
    "        return np.squeeze(out[\"action\"].detach().cpu().numpy()), out"
   ]
  },
  {
   "cell_type": "code",
   "execution_count": null,
   "metadata": {},
   "outputs": [],
   "source": [
    "def ppo_rollout(\n",
    "    policy: ACPolicy, env_name: str = None, env=None, env_creation_fn=None\n",
    ") -> Dict[str, np.array]:\n",
    "    if env_name is None and env is None:\n",
    "        raise ValueError(\"env_name or env must be provided!\")\n",
    "    if env is None:\n",
    "        if env_creation_fn is None:\n",
    "            env_creation_fn = gym.make\n",
    "        env = env_creation_fn(env_name)\n",
    "    done = False\n",
    "    observations, actions, rewards, log_probs, values = ([], [], [], [], [])\n",
    "    observation = env.reset()\n",
    "    with torch.no_grad():\n",
    "        while not done:\n",
    "            obs = torch.from_numpy(observation).to(policy.device)\n",
    "            action, out = policy.act(obs)\n",
    "            v = policy.critic(obs)\n",
    "            next_observation, reward, done, info = env.step(action)\n",
    "\n",
    "            observations.append(observation)\n",
    "            actions.append(action)\n",
    "            rewards.append(reward)\n",
    "            log_probs.append(out[\"log_probs\"].detach().cpu().numpy())\n",
    "            values.append(v.detach().cpu().numpy())\n",
    "\n",
    "            observation = next_observation\n",
    "    # env.close()\n",
    "    return {\n",
    "        \"observations\": np.array(observations),\n",
    "        \"actions\": np.array(actions),\n",
    "        \"rewards\": np.array(rewards),\n",
    "        \"log_probs\": np.array(log_probs),\n",
    "        \"values\": np.array(values),\n",
    "    }"
   ]
  },
  {
   "cell_type": "code",
   "execution_count": null,
   "metadata": {},
   "outputs": [],
   "source": [
    "policy = AntACPolicy()\n",
    "device = torch.device('cuda')\n",
    "policy = policy.to(device)"
   ]
  },
  {
   "cell_type": "code",
   "execution_count": null,
   "metadata": {},
   "outputs": [],
   "source": [
    "from ezrl.utils import get_tensorboard_logger"
   ]
  },
  {
   "cell_type": "code",
   "execution_count": null,
   "metadata": {},
   "outputs": [],
   "source": [
    "optimizer = PPOOptimizer(policy)"
   ]
  },
  {
   "cell_type": "code",
   "execution_count": null,
   "metadata": {},
   "outputs": [],
   "source": [
    "writer = get_tensorboard_logger(\"PPOOptimizer\")"
   ]
  },
  {
   "cell_type": "code",
   "execution_count": null,
   "metadata": {},
   "outputs": [],
   "source": [
    "env = gym.make(\"AntPyBulletEnv-v0\")"
   ]
  },
  {
   "cell_type": "code",
   "execution_count": null,
   "metadata": {},
   "outputs": [],
   "source": [
    "from tqdm import tqdm\n",
    "\n",
    "bar = tqdm(np.arange(50000))\n",
    "\n",
    "for i in bar:\n",
    "    rollouts = optimizer.rollout(ppo_rollout, env=env)\n",
    "\n",
    "    losses = []\n",
    "    actor_losses = []\n",
    "    value_losses = []\n",
    "    rewards = []\n",
    "\n",
    "    for r in rollouts:\n",
    "        observations = torch.from_numpy(r[\"observations\"]).float().to(policy.device)\n",
    "        actions = torch.from_numpy(r[\"actions\"]).float().to(policy.device)\n",
    "        returns = torch.from_numpy(r[\"returns\"]).float().to(policy.device)\n",
    "        advantages = torch.from_numpy(r[\"advantages\"]).float().to(policy.device)\n",
    "        log_probs = torch.from_numpy(r[\"log_probs\"]).float().to(policy.device)\n",
    "\n",
    "        for _ in range(5): # train each episode for 5 iterations\n",
    "            optimizer.zero_grad()\n",
    "            loss, actor_loss, value_loss = optimizer.loss_fn(observations, actions, returns, advantages, log_probs)\n",
    "            loss.backward()\n",
    "            torch.nn.utils.clip_grad_norm_(policy.parameters(), 100.0)\n",
    "            optimizer.step()\n",
    "\n",
    "            grad_dict = {}\n",
    "            for n, W in policy.named_parameters():\n",
    "                if W.grad is not None:\n",
    "                    grad_dict[\"{}_grad\".format(n)] = float(torch.sum(W.grad).item())\n",
    "\n",
    "        rewards.append(np.sum(r[\"rewards\"]))\n",
    "        losses.append(loss.item())\n",
    "        actor_losses.append(actor_loss.item())\n",
    "        value_losses.append(value_loss.item())\n",
    "\n",
    "    metrics_dict = {\"loss\":np.mean(losses), \"actor_loss\":np.mean(actor_losses), \"value_loss\":np.mean(value_losses), \"sum_reward\":np.mean(rewards), **grad_dict}\n",
    "\n",
    "    for key in metrics_dict:\n",
    "        writer.add_scalar(key, metrics_dict[key], i)\n",
    "\n",
    "\n",
    "    bar.set_description(\"Loss: {}, Reward: {}\".format(loss, np.mean(rewards)))"
   ]
  }
 ],
 "metadata": {
  "interpreter": {
   "hash": "1d64cb66d3d902aa83000daa06ca958bef94bde318911a82aee5f8df2bb8934b"
  },
  "kernelspec": {
   "display_name": "Python 3.9.7 ('pycanvas')",
   "language": "python",
   "name": "python3"
  },
  "language_info": {
   "codemirror_mode": {
    "name": "ipython",
    "version": 3
   },
   "file_extension": ".py",
   "mimetype": "text/x-python",
   "name": "python",
   "nbconvert_exporter": "python",
   "pygments_lexer": "ipython3",
   "version": "3.9.7"
  },
  "orig_nbformat": 4
 },
 "nbformat": 4,
 "nbformat_minor": 2
}
