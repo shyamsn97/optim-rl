{
 "cells": [
  {
   "cell_type": "markdown",
   "id": "62da750c-79e7-486f-a1d8-0c982ef5212c",
   "metadata": {},
   "source": [
    "# PPO"
   ]
  },
  {
   "cell_type": "markdown",
   "id": "0a9968d5-8742-4a6f-868e-731aecbe5ff1",
   "metadata": {},
   "source": [
    "### Let's run PPO on LunarLander!"
   ]
  },
  {
   "cell_type": "markdown",
   "id": "2a71e54d-ba2f-417a-96f4-cbefa509d5fa",
   "metadata": {
    "tags": []
   },
   "source": [
    "#### Imports"
   ]
  },
  {
   "cell_type": "code",
   "execution_count": 1,
   "id": "9707b193-e71f-4a1d-b45a-16b7cf99cdc3",
   "metadata": {
    "tags": []
   },
   "outputs": [],
   "source": [
    "from optimrl.algorithms.ppo import PPOLossFunction, PPOOptimizer\n",
    "from optimrl.policy import GymPolicy\n",
    "import torch\n",
    "import random\n",
    "import torch.nn as nn\n",
    "import torch.nn.functional as F\n",
    "import torch.distributions as td\n",
    "import numpy as np\n",
    "from tqdm import tqdm\n",
    "import gymnasium as gym\n",
    "from torch.distributions.normal import Normal"
   ]
  },
  {
   "cell_type": "markdown",
   "id": "c1bc7983-0c23-492e-b9c8-c1cc1e944bcf",
   "metadata": {},
   "source": [
    "#### Seeds"
   ]
  },
  {
   "cell_type": "code",
   "execution_count": 2,
   "id": "44ade3bf-a7be-437b-bb2b-559d9c819326",
   "metadata": {
    "tags": []
   },
   "outputs": [
    {
     "data": {
      "text/plain": [
       "<torch._C.Generator at 0x10785c110>"
      ]
     },
     "execution_count": 2,
     "metadata": {},
     "output_type": "execute_result"
    }
   ],
   "source": [
    "SEED = 1\n",
    "EVAL_SEED = 2\n",
    "\n",
    "random.seed(SEED)\n",
    "np.random.seed(SEED)\n",
    "torch.manual_seed(SEED)"
   ]
  },
  {
   "cell_type": "markdown",
   "id": "00fb65ba-2366-4a56-8c50-c781f7e7e9a4",
   "metadata": {},
   "source": [
    "#### Grab obs + act dims"
   ]
  },
  {
   "cell_type": "code",
   "execution_count": 3,
   "id": "689bda13-f6af-4ac5-8a89-da0838f3b810",
   "metadata": {
    "tags": []
   },
   "outputs": [
    {
     "name": "stdout",
     "output_type": "stream",
     "text": [
      "Obs dims: 17, Action dims: 6\n"
     ]
    }
   ],
   "source": [
    "env = gym.make('HalfCheetah-v4', render_mode=\"rgb_array\")\n",
    "obs_dims = env.observation_space.shape[-1]\n",
    "act_dims = env.action_space.shape[-1]\n",
    "print(f\"Obs dims: {obs_dims}, Action dims: {act_dims}\")"
   ]
  },
  {
   "cell_type": "markdown",
   "id": "614069c6-7b5a-4e9d-932f-30032d59b4ea",
   "metadata": {},
   "source": [
    "### Create policy"
   ]
  },
  {
   "cell_type": "code",
   "execution_count": 4,
   "id": "60c1df14-c185-4efd-9dd3-6ec76e8a8ffa",
   "metadata": {
    "tags": []
   },
   "outputs": [],
   "source": [
    "def layer_init(layer, std=np.sqrt(2), bias_const=0.0):\n",
    "    torch.nn.init.orthogonal_(layer.weight, std)\n",
    "    torch.nn.init.constant_(layer.bias, bias_const)\n",
    "    return layer\n",
    "\n",
    "class PPOContinuousPolicy(GymPolicy):\n",
    "    def __init__(\n",
    "        self,\n",
    "        obs_dims,\n",
    "        act_dims\n",
    "    ):\n",
    "        super().__init__()\n",
    "        self.obs_dims = obs_dims\n",
    "        self.act_dims = act_dims\n",
    "\n",
    "        self.critic = nn.Sequential(\n",
    "            layer_init(nn.Linear(self.obs_dims, 128)),\n",
    "            nn.Tanh(),\n",
    "            layer_init(nn.Linear(128, 128)),\n",
    "            nn.Tanh(),\n",
    "            layer_init(nn.Linear(128, 1)),\n",
    "        )\n",
    "        self.actor_mean = nn.Sequential(\n",
    "            layer_init(nn.Linear(self.obs_dims, 128)),\n",
    "            nn.Tanh(),\n",
    "            layer_init(nn.Linear(128, 128)),\n",
    "            nn.Tanh(),\n",
    "            layer_init(nn.Linear(128, self.act_dims), std=0.01),\n",
    "            nn.Tanh(),\n",
    "        )\n",
    "        self.actor_logstd = nn.Parameter(torch.zeros(1, np.prod(self.act_dims)))\n",
    "\n",
    "    def forward(self, obs: torch.Tensor, actions = None, policy_out = {}):\n",
    "        obs = obs.float()\n",
    "        values = self.critic(obs)\n",
    "        action_mean = self.actor_mean(obs)\n",
    "        action_logstd = self.actor_logstd.expand_as(action_mean)\n",
    "        action_std = torch.exp(action_logstd)\n",
    "        dist = Normal(action_mean, action_std)\n",
    "        entropy = dist.entropy().sum(1)\n",
    "        if actions is None:\n",
    "            actions = dist.sample()\n",
    "        actions = actions.float()\n",
    "        log_probs = dist.log_prob(actions).sum(1)\n",
    "        return {\"actions\":actions, \"values\":values, \"log_probs\":log_probs, \"dist\":dist, \"entropy\":entropy}\n",
    "\n",
    "    def act(self, obs: torch.Tensor, actions = None, policy_out = {}):\n",
    "        with torch.no_grad():\n",
    "            out = self.forward(torch.from_numpy(obs), actions=actions, policy_out = policy_out)\n",
    "            return out[\"actions\"].detach().cpu().numpy(), out"
   ]
  },
  {
   "cell_type": "markdown",
   "id": "93612d1e-c6ee-4e04-81bd-aca823b7c018",
   "metadata": {},
   "source": [
    "#### Train"
   ]
  },
  {
   "cell_type": "markdown",
   "id": "5bdd3e61-e172-44bb-8963-6eb4b7f544bf",
   "metadata": {},
   "source": [
    "##### Setup optimizer"
   ]
  },
  {
   "cell_type": "code",
   "execution_count": 5,
   "id": "3a418464-4f8a-4960-9f8d-983e2e33b2c6",
   "metadata": {
    "tags": []
   },
   "outputs": [],
   "source": [
    "device = torch.device(\"cuda\") if torch.cuda.is_available() else torch.device(\"cpu\")\n",
    "policy = PPOContinuousPolicy(obs_dims, act_dims)\n",
    "loss_fn = PPOLossFunction(clip_ratio=0.2, ent_coef=0.01, vf_coef=0.5)\n",
    "optimizer = PPOOptimizer(policy, loss_fn, pi_lr=2e-4, n_updates=5, num_minibatches=32)\n",
    "\n",
    "policy = policy.to(device)\n",
    "optimizer = optimizer.to(device)"
   ]
  },
  {
   "cell_type": "markdown",
   "id": "4eebfd8d-bdfd-4405-88f3-1afcb23f376c",
   "metadata": {},
   "source": [
    "##### Create vector envs"
   ]
  },
  {
   "cell_type": "code",
   "execution_count": 6,
   "id": "f1326f2d-95ae-485e-abb0-e58a772b5184",
   "metadata": {
    "tags": []
   },
   "outputs": [],
   "source": [
    "def make_env(env_name):\n",
    "    env = gym.make(env_name, render_mode=\"rgb_array\")\n",
    "    env = gym.wrappers.ClipAction(env)\n",
    "    env = gym.wrappers.RecordEpisodeStatistics(env)\n",
    "    return env\n",
    "\n",
    "train_envs = gym.vector.SyncVectorEnv(\n",
    "    [lambda: make_env('HalfCheetah-v4') for i in range(16)],\n",
    ")\n",
    "test_envs = gym.vector.SyncVectorEnv(\n",
    "    [lambda: make_env('HalfCheetah-v4') for i in range(1)],\n",
    ")"
   ]
  },
  {
   "cell_type": "markdown",
   "id": "5767c77a-5b5f-43c9-9caa-7fed8a86ad2b",
   "metadata": {
    "tags": []
   },
   "source": [
    "##### Main loop"
   ]
  },
  {
   "cell_type": "code",
   "execution_count": 7,
   "id": "57090302-1ee5-4e63-a37b-1fa02a9e66cd",
   "metadata": {
    "tags": []
   },
   "outputs": [],
   "source": [
    "NUM_STEPS = 20000\n",
    "MAX_ENV_STEPS = 128"
   ]
  },
  {
   "cell_type": "code",
   "execution_count": 8,
   "id": "1bf7c85d-c0e5-45cf-bff6-245b34677b9d",
   "metadata": {
    "scrolled": true,
    "tags": []
   },
   "outputs": [
    {
     "name": "stderr",
     "output_type": "stream",
     "text": [
      "  0%|                                                               | 1/20000 [00:00<1:39:50,  3.34it/s]"
     ]
    },
    {
     "name": "stdout",
     "output_type": "stream",
     "text": [
      "Train: -15.560292669697743 Test: -13.475637007546174\n"
     ]
    },
    {
     "name": "stderr",
     "output_type": "stream",
     "text": [
      "  0%|▏                                                             | 51/20000 [00:13<1:27:51,  3.78it/s]"
     ]
    },
    {
     "name": "stdout",
     "output_type": "stream",
     "text": [
      "Train: -16.080341515267936 Test: -6.749094461644224\n"
     ]
    },
    {
     "name": "stderr",
     "output_type": "stream",
     "text": [
      "  1%|▎                                                            | 101/20000 [00:26<1:31:02,  3.64it/s]"
     ]
    },
    {
     "name": "stdout",
     "output_type": "stream",
     "text": [
      "Train: -6.286536013956112 Test: -13.297368424675323\n"
     ]
    },
    {
     "name": "stderr",
     "output_type": "stream",
     "text": [
      "  1%|▍                                                            | 151/20000 [00:40<1:27:05,  3.80it/s]"
     ]
    },
    {
     "name": "stdout",
     "output_type": "stream",
     "text": [
      "Train: 17.12188588134856 Test: 15.293884992322026\n"
     ]
    },
    {
     "name": "stderr",
     "output_type": "stream",
     "text": [
      "  1%|▌                                                            | 201/20000 [00:53<1:28:16,  3.74it/s]"
     ]
    },
    {
     "name": "stdout",
     "output_type": "stream",
     "text": [
      "Train: 31.66193736147408 Test: 44.57335925271683\n"
     ]
    },
    {
     "name": "stderr",
     "output_type": "stream",
     "text": [
      "  1%|▊                                                            | 251/20000 [01:06<1:28:01,  3.74it/s]"
     ]
    },
    {
     "name": "stdout",
     "output_type": "stream",
     "text": [
      "Train: 59.09524559879422 Test: 63.267981526227594\n"
     ]
    },
    {
     "name": "stderr",
     "output_type": "stream",
     "text": [
      "  2%|▉                                                            | 301/20000 [01:20<1:27:07,  3.77it/s]"
     ]
    },
    {
     "name": "stdout",
     "output_type": "stream",
     "text": [
      "Train: 80.53920860057913 Test: 83.72588062746762\n"
     ]
    },
    {
     "name": "stderr",
     "output_type": "stream",
     "text": [
      "  2%|█                                                            | 351/20000 [01:33<1:26:30,  3.79it/s]"
     ]
    },
    {
     "name": "stdout",
     "output_type": "stream",
     "text": [
      "Train: 105.90150698669012 Test: 101.48889425174976\n"
     ]
    },
    {
     "name": "stderr",
     "output_type": "stream",
     "text": [
      "  2%|█▏                                                           | 401/20000 [01:46<1:26:08,  3.79it/s]"
     ]
    },
    {
     "name": "stdout",
     "output_type": "stream",
     "text": [
      "Train: 129.70300324488798 Test: 139.9520531120921\n"
     ]
    },
    {
     "name": "stderr",
     "output_type": "stream",
     "text": [
      "  2%|█▍                                                           | 451/20000 [01:59<1:26:04,  3.79it/s]"
     ]
    },
    {
     "name": "stdout",
     "output_type": "stream",
     "text": [
      "Train: 151.3613456470404 Test: 159.96881396537844\n"
     ]
    },
    {
     "name": "stderr",
     "output_type": "stream",
     "text": [
      "  3%|█▌                                                           | 501/20000 [02:12<1:24:41,  3.84it/s]"
     ]
    },
    {
     "name": "stdout",
     "output_type": "stream",
     "text": [
      "Train: 170.90139629529875 Test: 184.07970351334555\n"
     ]
    },
    {
     "name": "stderr",
     "output_type": "stream",
     "text": [
      "  3%|█▋                                                           | 551/20000 [02:26<1:24:14,  3.85it/s]"
     ]
    },
    {
     "name": "stdout",
     "output_type": "stream",
     "text": [
      "Train: 181.16992217906565 Test: 176.17593808762498\n"
     ]
    },
    {
     "name": "stderr",
     "output_type": "stream",
     "text": [
      "  3%|█▊                                                           | 601/20000 [02:39<1:24:17,  3.84it/s]"
     ]
    },
    {
     "name": "stdout",
     "output_type": "stream",
     "text": [
      "Train: 193.51148027488517 Test: 187.37595691456278\n"
     ]
    },
    {
     "name": "stderr",
     "output_type": "stream",
     "text": [
      "  3%|█▉                                                           | 651/20000 [02:52<1:24:07,  3.83it/s]"
     ]
    },
    {
     "name": "stdout",
     "output_type": "stream",
     "text": [
      "Train: 202.93133398651773 Test: 203.12433703594655\n"
     ]
    },
    {
     "name": "stderr",
     "output_type": "stream",
     "text": [
      "  4%|██▏                                                          | 701/20000 [03:05<1:23:36,  3.85it/s]"
     ]
    },
    {
     "name": "stdout",
     "output_type": "stream",
     "text": [
      "Train: 224.13374121995813 Test: 223.46556959174646\n"
     ]
    },
    {
     "name": "stderr",
     "output_type": "stream",
     "text": [
      "  4%|██▏                                                          | 733/20000 [03:14<1:25:06,  3.77it/s]\n",
      "\n",
      "KeyboardInterrupt\n",
      "\n"
     ]
    }
   ],
   "source": [
    "mean_train_rewards = []\n",
    "mean_test_rewards = []\n",
    "bar = tqdm(np.arange(NUM_STEPS))\n",
    "\n",
    "for i in bar:\n",
    "    with torch.no_grad():\n",
    "        train_rollout = optimizer.rollout(train_envs, policy, MAX_ENV_STEPS, SEED, evaluate=False)\n",
    "        eval_rollout = optimizer.rollout(test_envs, policy, MAX_ENV_STEPS, EVAL_SEED, evaluate=True)\n",
    "    loss, rewards, stats = optimizer.step(\n",
    "        train_rollout.to_torch(\n",
    "            device=optimizer.device\n",
    "        )\n",
    "    )\n",
    "    mean_train_rewards.append(train_rollout.stats[\"sum_rewards\"])\n",
    "    mean_test_rewards.append(eval_rollout.stats[\"sum_rewards\"])\n",
    "    if i % 50 == 0:\n",
    "        print(f\"Train: {np.mean(mean_train_rewards[-20:])} Test: {np.mean(mean_test_rewards[-20:])}\")"
   ]
  },
  {
   "cell_type": "code",
   "execution_count": null,
   "id": "90d31ccd-a04c-4538-931b-8521f31b8e36",
   "metadata": {},
   "outputs": [],
   "source": []
  }
 ],
 "metadata": {
  "kernelspec": {
   "display_name": "Python [conda env:py310] *",
   "language": "python",
   "name": "conda-env-py310-py"
  },
  "language_info": {
   "codemirror_mode": {
    "name": "ipython",
    "version": 3
   },
   "file_extension": ".py",
   "mimetype": "text/x-python",
   "name": "python",
   "nbconvert_exporter": "python",
   "pygments_lexer": "ipython3",
   "version": "3.10.0"
  }
 },
 "nbformat": 4,
 "nbformat_minor": 5
}
