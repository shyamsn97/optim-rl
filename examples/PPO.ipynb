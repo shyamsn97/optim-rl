{
 "cells": [
  {
   "cell_type": "markdown",
   "id": "62da750c-79e7-486f-a1d8-0c982ef5212c",
   "metadata": {},
   "source": [
    "# PPO"
   ]
  },
  {
   "cell_type": "markdown",
   "id": "0a9968d5-8742-4a6f-868e-731aecbe5ff1",
   "metadata": {},
   "source": [
    "### Let's run PPO on LunarLander!"
   ]
  },
  {
   "cell_type": "markdown",
   "id": "2a71e54d-ba2f-417a-96f4-cbefa509d5fa",
   "metadata": {},
   "source": [
    "#### Imports"
   ]
  },
  {
   "cell_type": "code",
   "execution_count": 1,
   "id": "9707b193-e71f-4a1d-b45a-16b7cf99cdc3",
   "metadata": {
    "tags": []
   },
   "outputs": [],
   "source": [
    "from optimrl.algorithms.ppo import PPOLossFunction, PPOOptimizer\n",
    "import gym\n",
    "import torch\n",
    "import random\n",
    "import torch.nn as nn\n",
    "import torch.nn.functional as F\n",
    "import torch.distributions as td\n",
    "import numpy as np\n",
    "from tqdm import tqdm"
   ]
  },
  {
   "cell_type": "markdown",
   "id": "c1bc7983-0c23-492e-b9c8-c1cc1e944bcf",
   "metadata": {},
   "source": [
    "#### Seeds"
   ]
  },
  {
   "cell_type": "code",
   "execution_count": 2,
   "id": "44ade3bf-a7be-437b-bb2b-559d9c819326",
   "metadata": {
    "tags": []
   },
   "outputs": [
    {
     "data": {
      "text/plain": [
       "<torch._C.Generator at 0x1058dca90>"
      ]
     },
     "execution_count": 2,
     "metadata": {},
     "output_type": "execute_result"
    }
   ],
   "source": [
    "SEED = 1\n",
    "EVAL_SEED = 2\n",
    "\n",
    "random.seed(SEED)\n",
    "np.random.seed(SEED)\n",
    "torch.manual_seed(SEED)"
   ]
  },
  {
   "cell_type": "markdown",
   "id": "00fb65ba-2366-4a56-8c50-c781f7e7e9a4",
   "metadata": {},
   "source": [
    "#### Grab obs + act dims"
   ]
  },
  {
   "cell_type": "code",
   "execution_count": 3,
   "id": "689bda13-f6af-4ac5-8a89-da0838f3b810",
   "metadata": {
    "tags": []
   },
   "outputs": [
    {
     "name": "stdout",
     "output_type": "stream",
     "text": [
      "Obs dims: 8, Action dims: 4\n"
     ]
    }
   ],
   "source": [
    "env = gym.make(\"LunarLander-v2\")\n",
    "obs_dims = env.observation_space.shape[-1]\n",
    "act_dims = env.action_space.n\n",
    "print(f\"Obs dims: {obs_dims}, Action dims: {act_dims}\")"
   ]
  },
  {
   "cell_type": "markdown",
   "id": "614069c6-7b5a-4e9d-932f-30032d59b4ea",
   "metadata": {},
   "source": [
    "### Create policy"
   ]
  },
  {
   "cell_type": "code",
   "execution_count": 4,
   "id": "60c1df14-c185-4efd-9dd3-6ec76e8a8ffa",
   "metadata": {
    "tags": []
   },
   "outputs": [],
   "source": [
    "def layer_init(layer, std=np.sqrt(2), bias_const=0.0):\n",
    "    torch.nn.init.orthogonal_(layer.weight, std)\n",
    "    torch.nn.init.constant_(layer.bias, bias_const)\n",
    "    return layer\n",
    "\n",
    "class PPOCategoricalPolicy(nn.Module):\n",
    "    def __init__(\n",
    "        self,\n",
    "        obs_dims,\n",
    "        act_dims\n",
    "    ):\n",
    "        super().__init__()\n",
    "        self.obs_dims = obs_dims\n",
    "        self.act_dims = act_dims\n",
    "\n",
    "        self.critic = nn.Sequential(\n",
    "            layer_init(nn.Linear(self.obs_dims, 128)),\n",
    "            nn.Tanh(),\n",
    "            layer_init(nn.Linear(128, 128)),\n",
    "            nn.Tanh(),\n",
    "            layer_init(nn.Linear(128, 1)),\n",
    "        )\n",
    "        self.actor = nn.Sequential(\n",
    "            layer_init(nn.Linear(self.obs_dims, 128)),\n",
    "            nn.ReLU(),\n",
    "            layer_init(nn.Linear(128, 128)),\n",
    "            nn.Tanh(),\n",
    "            layer_init(nn.Linear(128, self.act_dims)),\n",
    "        )\n",
    "\n",
    "    def forward(self, obs: torch.Tensor, *args, **kwargs):\n",
    "        logits = self.actor(obs)\n",
    "        values = self.critic(obs)\n",
    "        dist = td.Categorical(logits=logits)\n",
    "        actions = dist.sample()\n",
    "        entropy = dist.entropy()\n",
    "        log_probs = dist.log_prob(actions)\n",
    "        return {\"actions\":actions, \"values\":values, \"log_probs\":log_probs, \"dist\":dist, \"logits\":logits, \"entropy\":entropy}\n",
    "\n",
    "    def act(self, obs: torch.Tensor, prev_output = {}):\n",
    "        with torch.no_grad():\n",
    "            out = self.forward(torch.from_numpy(obs), prev_output = {})\n",
    "            return out[\"actions\"].detach().cpu().numpy(), out"
   ]
  },
  {
   "cell_type": "markdown",
   "id": "93612d1e-c6ee-4e04-81bd-aca823b7c018",
   "metadata": {},
   "source": [
    "#### Train"
   ]
  },
  {
   "cell_type": "markdown",
   "id": "5bdd3e61-e172-44bb-8963-6eb4b7f544bf",
   "metadata": {},
   "source": [
    "##### Setup optimizer"
   ]
  },
  {
   "cell_type": "code",
   "execution_count": 5,
   "id": "3a418464-4f8a-4960-9f8d-983e2e33b2c6",
   "metadata": {
    "tags": []
   },
   "outputs": [],
   "source": [
    "device = torch.device(\"cuda\") if torch.cuda.is_available() else torch.device(\"cpu\")\n",
    "policy = PPOCategoricalPolicy(8, 4)\n",
    "loss_fn = PPOLossFunction(clip_ratio=0.2, ent_coef=0.01, vf_coef=1.0)\n",
    "optimizer = PPOOptimizer(policy, loss_fn, pi_lr=0.0002, n_updates=5, num_minibatches=1)\n",
    "\n",
    "policy = policy.to(device)\n",
    "optimizer = optimizer.to(device)"
   ]
  },
  {
   "cell_type": "markdown",
   "id": "4eebfd8d-bdfd-4405-88f3-1afcb23f376c",
   "metadata": {},
   "source": [
    "##### Create vector envs"
   ]
  },
  {
   "cell_type": "code",
   "execution_count": 6,
   "id": "f1326f2d-95ae-485e-abb0-e58a772b5184",
   "metadata": {
    "tags": []
   },
   "outputs": [],
   "source": [
    "def make_env(env_name):\n",
    "    env =  gym.make(env_name)\n",
    "    env = gym.wrappers.RecordEpisodeStatistics(env)\n",
    "    return env\n",
    "\n",
    "train_envs = gym.vector.SyncVectorEnv(\n",
    "    [lambda: make_env(\"LunarLander-v2\") for i in range(4)],\n",
    ")\n",
    "test_envs = gym.vector.SyncVectorEnv(\n",
    "    [lambda: make_env(\"LunarLander-v2\") for i in range(1)],\n",
    ")"
   ]
  },
  {
   "cell_type": "markdown",
   "id": "5767c77a-5b5f-43c9-9caa-7fed8a86ad2b",
   "metadata": {},
   "source": [
    "##### Main loop"
   ]
  },
  {
   "cell_type": "code",
   "execution_count": 7,
   "id": "57090302-1ee5-4e63-a37b-1fa02a9e66cd",
   "metadata": {
    "tags": []
   },
   "outputs": [],
   "source": [
    "NUM_STEPS = 20000\n",
    "MAX_ENV_STEPS = 256"
   ]
  },
  {
   "cell_type": "code",
   "execution_count": 8,
   "id": "1bf7c85d-c0e5-45cf-bff6-245b34677b9d",
   "metadata": {
    "scrolled": true,
    "tags": []
   },
   "outputs": [
    {
     "name": "stderr",
     "output_type": "stream",
     "text": [
      "  0%|                      | 0/20000 [00:00<?, ?it/s]/Users/shyam/anaconda3/envs/py310/lib/python3.10/site-packages/gym/utils/passive_env_checker.py:233: DeprecationWarning: `np.bool8` is a deprecated alias for `np.bool_`.  (Deprecated NumPy 1.24)\n",
      "  if not isinstance(terminated, (bool, np.bool8)):\n",
      "  0%|              | 2/20000 [00:00<56:02,  5.95it/s]"
     ]
    },
    {
     "name": "stdout",
     "output_type": "stream",
     "text": [
      "Train: -393.9243048403554 Test: -373.5218742747213\n"
     ]
    },
    {
     "name": "stderr",
     "output_type": "stream",
     "text": [
      "  0%|             | 52/20000 [00:08<56:52,  5.85it/s]"
     ]
    },
    {
     "name": "stdout",
     "output_type": "stream",
     "text": [
      "Train: -273.5642783934559 Test: -175.4668695229023\n"
     ]
    },
    {
     "name": "stderr",
     "output_type": "stream",
     "text": [
      "  1%|          | 102/20000 [00:18<1:01:57,  5.35it/s]"
     ]
    },
    {
     "name": "stdout",
     "output_type": "stream",
     "text": [
      "Train: -254.56763639811135 Test: -131.64911344327896\n"
     ]
    },
    {
     "name": "stderr",
     "output_type": "stream",
     "text": [
      "  1%|            | 152/20000 [00:27<56:16,  5.88it/s]"
     ]
    },
    {
     "name": "stdout",
     "output_type": "stream",
     "text": [
      "Train: -217.76374657240564 Test: -141.10066555474953\n"
     ]
    },
    {
     "name": "stderr",
     "output_type": "stream",
     "text": [
      "  1%|          | 201/20000 [00:38<1:01:35,  5.36it/s]"
     ]
    },
    {
     "name": "stdout",
     "output_type": "stream",
     "text": [
      "Train: -144.05246665770775 Test: -102.68073270098117\n"
     ]
    },
    {
     "name": "stderr",
     "output_type": "stream",
     "text": [
      "  1%|▏           | 252/20000 [00:48<56:19,  5.84it/s]"
     ]
    },
    {
     "name": "stdout",
     "output_type": "stream",
     "text": [
      "Train: -201.76728110507602 Test: -114.17133899898866\n"
     ]
    },
    {
     "name": "stderr",
     "output_type": "stream",
     "text": [
      "  2%|▏         | 301/20000 [00:58<1:28:51,  3.69it/s]"
     ]
    },
    {
     "name": "stdout",
     "output_type": "stream",
     "text": [
      "Train: -70.97767920094306 Test: -41.99667969367815\n"
     ]
    },
    {
     "name": "stderr",
     "output_type": "stream",
     "text": [
      "  2%|▏         | 351/20000 [01:12<1:30:10,  3.63it/s]"
     ]
    },
    {
     "name": "stdout",
     "output_type": "stream",
     "text": [
      "Train: -4.048877855830725 Test: -1.0958662008003877\n"
     ]
    },
    {
     "name": "stderr",
     "output_type": "stream",
     "text": [
      "  2%|▏         | 401/20000 [01:25<1:30:49,  3.60it/s]"
     ]
    },
    {
     "name": "stdout",
     "output_type": "stream",
     "text": [
      "Train: 8.491294481650153 Test: 10.302631858558048\n"
     ]
    },
    {
     "name": "stderr",
     "output_type": "stream",
     "text": [
      "  2%|▏         | 451/20000 [01:40<1:43:16,  3.15it/s]"
     ]
    },
    {
     "name": "stdout",
     "output_type": "stream",
     "text": [
      "Train: 14.229816917864113 Test: 29.157609616637803\n"
     ]
    },
    {
     "name": "stderr",
     "output_type": "stream",
     "text": [
      "  3%|▎         | 501/20000 [01:56<1:51:07,  2.92it/s]"
     ]
    },
    {
     "name": "stdout",
     "output_type": "stream",
     "text": [
      "Train: 39.40215731603261 Test: 47.35812656231085\n"
     ]
    },
    {
     "name": "stderr",
     "output_type": "stream",
     "text": [
      "  3%|▎         | 551/20000 [02:14<1:53:08,  2.86it/s]"
     ]
    },
    {
     "name": "stdout",
     "output_type": "stream",
     "text": [
      "Train: 28.741395309290958 Test: 26.539667491681023\n"
     ]
    },
    {
     "name": "stderr",
     "output_type": "stream",
     "text": [
      "  3%|▎         | 601/20000 [02:30<1:44:09,  3.10it/s]"
     ]
    },
    {
     "name": "stdout",
     "output_type": "stream",
     "text": [
      "Train: 69.04661865034937 Test: 52.765414533312104\n"
     ]
    },
    {
     "name": "stderr",
     "output_type": "stream",
     "text": [
      "  3%|▎         | 651/20000 [02:44<1:38:55,  3.26it/s]"
     ]
    },
    {
     "name": "stdout",
     "output_type": "stream",
     "text": [
      "Train: 72.08714115042994 Test: 63.66232220177574\n"
     ]
    },
    {
     "name": "stderr",
     "output_type": "stream",
     "text": [
      "  3%|▎         | 669/20000 [02:50<1:22:00,  3.93it/s]\n",
      "\n",
      "KeyboardInterrupt\n",
      "\n"
     ]
    }
   ],
   "source": [
    "mean_train_rewards = []\n",
    "mean_test_rewards = []\n",
    "bar = tqdm(np.arange(NUM_STEPS))\n",
    "\n",
    "for i in bar:\n",
    "    with torch.no_grad():\n",
    "        train_rollout = optimizer.rollout(train_envs, policy, MAX_ENV_STEPS, SEED, evaluate=False)\n",
    "        eval_rollout = optimizer.rollout(test_envs, policy, MAX_ENV_STEPS, EVAL_SEED, evaluate=True)\n",
    "    loss, rewards, stats = optimizer.step(\n",
    "        train_rollout.to_torch(\n",
    "            device=optimizer.device\n",
    "        )\n",
    "    )\n",
    "    mean_train_rewards.append(train_rollout.stats[\"sum_rewards\"])\n",
    "    mean_test_rewards.append(eval_rollout.stats[\"sum_rewards\"])\n",
    "    if i % 50 == 0:\n",
    "        print(f\"Train: {np.mean(mean_train_rewards[-20:])} Test: {np.mean(mean_test_rewards[-20:])}\")"
   ]
  },
  {
   "cell_type": "code",
   "execution_count": null,
   "id": "612a173e-b7ef-4ac9-89ad-12e278fbf00e",
   "metadata": {},
   "outputs": [],
   "source": []
  }
 ],
 "metadata": {
  "kernelspec": {
   "display_name": "Python [conda env:py310] *",
   "language": "python",
   "name": "conda-env-py310-py"
  },
  "language_info": {
   "codemirror_mode": {
    "name": "ipython",
    "version": 3
   },
   "file_extension": ".py",
   "mimetype": "text/x-python",
   "name": "python",
   "nbconvert_exporter": "python",
   "pygments_lexer": "ipython3",
   "version": "3.10.0"
  }
 },
 "nbformat": 4,
 "nbformat_minor": 5
}
